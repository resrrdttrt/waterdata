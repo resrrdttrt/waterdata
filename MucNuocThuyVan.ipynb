{
 "cells": [
  {
   "cell_type": "code",
   "execution_count": 3,
   "metadata": {},
   "outputs": [],
   "source": [
    "import sqlite3\n",
    "import pandas as pd\n",
    "\n",
    "conn = sqlite3.connect(\"IWE_data.db\")\n",
    "\n",
    "# sql_query = \"SELECT * FROM ho_thuy_dien\"\n",
    "# htd_df = pd.read_sql_query(sql_query, conn)\n",
    "\n",
    "# sql_query = \"SELECT * FROM ho_thuy_loi\"\n",
    "# htl_df = pd.read_sql_query(sql_query, conn)\n",
    "\n",
    "# sql_query = \"SELECT * FROM luong_mua\"\n",
    "# # lm_df = pd.read_sql_query(sql_query, conn)\n",
    "# df = pd.read_sql_query(sql_query, conn)\n",
    "\n",
    "\n",
    "sql_query = \"SELECT * FROM muc_nuoc_thuy_van\"\n",
    "# mntv_df = pd.read_sql_query(sql_query, conn)\n",
    "df = pd.read_sql_query(sql_query, conn)\n",
    "\n",
    "\n",
    "conn.close()"
   ]
  },
  {
   "cell_type": "code",
   "execution_count": 4,
   "metadata": {},
   "outputs": [
    {
     "data": {
      "text/html": [
       "<div>\n",
       "<style scoped>\n",
       "    .dataframe tbody tr th:only-of-type {\n",
       "        vertical-align: middle;\n",
       "    }\n",
       "\n",
       "    .dataframe tbody tr th {\n",
       "        vertical-align: top;\n",
       "    }\n",
       "\n",
       "    .dataframe thead th {\n",
       "        text-align: right;\n",
       "    }\n",
       "</style>\n",
       "<table border=\"1\" class=\"dataframe\">\n",
       "  <thead>\n",
       "    <tr style=\"text-align: right;\">\n",
       "      <th></th>\n",
       "      <th>id</th>\n",
       "      <th>mahieu</th>\n",
       "      <th>ten</th>\n",
       "      <th>kinhdo</th>\n",
       "      <th>vido</th>\n",
       "      <th>datetime</th>\n",
       "      <th>mucnuoc</th>\n",
       "      <th>thoigian</th>\n",
       "    </tr>\n",
       "  </thead>\n",
       "  <tbody>\n",
       "    <tr>\n",
       "      <th>0</th>\n",
       "      <td>1</td>\n",
       "      <td>0248df12-4e95-4680-8fc6-e3310655b04c</td>\n",
       "      <td>Nông Sơn</td>\n",
       "      <td>108.0500</td>\n",
       "      <td>15.70000</td>\n",
       "      <td>2023-12-17 18:00:00</td>\n",
       "      <td>7.88</td>\n",
       "      <td>01:00:00 18/12/2023</td>\n",
       "    </tr>\n",
       "    <tr>\n",
       "      <th>1</th>\n",
       "      <td>2</td>\n",
       "      <td>0248df12-4e95-4680-8fc6-e3310655b04c</td>\n",
       "      <td>Nông Sơn</td>\n",
       "      <td>108.0500</td>\n",
       "      <td>15.70000</td>\n",
       "      <td>2023-12-17 21:00:00</td>\n",
       "      <td>7.86</td>\n",
       "      <td>04:00:00 18/12/2023</td>\n",
       "    </tr>\n",
       "    <tr>\n",
       "      <th>2</th>\n",
       "      <td>3</td>\n",
       "      <td>0248df12-4e95-4680-8fc6-e3310655b04c</td>\n",
       "      <td>Nông Sơn</td>\n",
       "      <td>108.0500</td>\n",
       "      <td>15.70000</td>\n",
       "      <td>2023-12-18 00:00:00</td>\n",
       "      <td>7.76</td>\n",
       "      <td>07:00:00 18/12/2023</td>\n",
       "    </tr>\n",
       "    <tr>\n",
       "      <th>3</th>\n",
       "      <td>4</td>\n",
       "      <td>0248df12-4e95-4680-8fc6-e3310655b04c</td>\n",
       "      <td>Nông Sơn</td>\n",
       "      <td>108.0500</td>\n",
       "      <td>15.70000</td>\n",
       "      <td>2023-12-18 03:00:00</td>\n",
       "      <td>7.70</td>\n",
       "      <td>10:00:00 18/12/2023</td>\n",
       "    </tr>\n",
       "    <tr>\n",
       "      <th>4</th>\n",
       "      <td>5</td>\n",
       "      <td>0248df12-4e95-4680-8fc6-e3310655b04c</td>\n",
       "      <td>Nông Sơn</td>\n",
       "      <td>108.0500</td>\n",
       "      <td>15.70000</td>\n",
       "      <td>2023-12-18 06:00:00</td>\n",
       "      <td>7.59</td>\n",
       "      <td>13:00:00 18/12/2023</td>\n",
       "    </tr>\n",
       "    <tr>\n",
       "      <th>...</th>\n",
       "      <td>...</td>\n",
       "      <td>...</td>\n",
       "      <td>...</td>\n",
       "      <td>...</td>\n",
       "      <td>...</td>\n",
       "      <td>...</td>\n",
       "      <td>...</td>\n",
       "      <td>...</td>\n",
       "    </tr>\n",
       "    <tr>\n",
       "      <th>595</th>\n",
       "      <td>596</td>\n",
       "      <td>f8dcdeea-806c-4725-833b-db0305a8a500</td>\n",
       "      <td>Hội An</td>\n",
       "      <td>108.3333</td>\n",
       "      <td>15.86667</td>\n",
       "      <td>2023-12-26 19:00:00</td>\n",
       "      <td>0.16</td>\n",
       "      <td>02:00:00 27/12/2023</td>\n",
       "    </tr>\n",
       "    <tr>\n",
       "      <th>596</th>\n",
       "      <td>597</td>\n",
       "      <td>f8dcdeea-806c-4725-833b-db0305a8a500</td>\n",
       "      <td>Hội An</td>\n",
       "      <td>108.3333</td>\n",
       "      <td>15.86667</td>\n",
       "      <td>2023-12-26 20:00:00</td>\n",
       "      <td>-0.01</td>\n",
       "      <td>03:00:00 27/12/2023</td>\n",
       "    </tr>\n",
       "    <tr>\n",
       "      <th>597</th>\n",
       "      <td>598</td>\n",
       "      <td>f8dcdeea-806c-4725-833b-db0305a8a500</td>\n",
       "      <td>Hội An</td>\n",
       "      <td>108.3333</td>\n",
       "      <td>15.86667</td>\n",
       "      <td>2023-12-26 21:00:00</td>\n",
       "      <td>-0.16</td>\n",
       "      <td>04:00:00 27/12/2023</td>\n",
       "    </tr>\n",
       "    <tr>\n",
       "      <th>598</th>\n",
       "      <td>599</td>\n",
       "      <td>f8dcdeea-806c-4725-833b-db0305a8a500</td>\n",
       "      <td>Hội An</td>\n",
       "      <td>108.3333</td>\n",
       "      <td>15.86667</td>\n",
       "      <td>2023-12-26 22:00:00</td>\n",
       "      <td>-0.25</td>\n",
       "      <td>05:00:00 27/12/2023</td>\n",
       "    </tr>\n",
       "    <tr>\n",
       "      <th>599</th>\n",
       "      <td>600</td>\n",
       "      <td>f8dcdeea-806c-4725-833b-db0305a8a500</td>\n",
       "      <td>Hội An</td>\n",
       "      <td>108.3333</td>\n",
       "      <td>15.86667</td>\n",
       "      <td>2023-12-26 23:00:00</td>\n",
       "      <td>-0.30</td>\n",
       "      <td>06:00:00 27/12/2023</td>\n",
       "    </tr>\n",
       "  </tbody>\n",
       "</table>\n",
       "<p>600 rows × 8 columns</p>\n",
       "</div>"
      ],
      "text/plain": [
       "      id                                mahieu       ten    kinhdo      vido  \\\n",
       "0      1  0248df12-4e95-4680-8fc6-e3310655b04c  Nông Sơn  108.0500  15.70000   \n",
       "1      2  0248df12-4e95-4680-8fc6-e3310655b04c  Nông Sơn  108.0500  15.70000   \n",
       "2      3  0248df12-4e95-4680-8fc6-e3310655b04c  Nông Sơn  108.0500  15.70000   \n",
       "3      4  0248df12-4e95-4680-8fc6-e3310655b04c  Nông Sơn  108.0500  15.70000   \n",
       "4      5  0248df12-4e95-4680-8fc6-e3310655b04c  Nông Sơn  108.0500  15.70000   \n",
       "..   ...                                   ...       ...       ...       ...   \n",
       "595  596  f8dcdeea-806c-4725-833b-db0305a8a500    Hội An  108.3333  15.86667   \n",
       "596  597  f8dcdeea-806c-4725-833b-db0305a8a500    Hội An  108.3333  15.86667   \n",
       "597  598  f8dcdeea-806c-4725-833b-db0305a8a500    Hội An  108.3333  15.86667   \n",
       "598  599  f8dcdeea-806c-4725-833b-db0305a8a500    Hội An  108.3333  15.86667   \n",
       "599  600  f8dcdeea-806c-4725-833b-db0305a8a500    Hội An  108.3333  15.86667   \n",
       "\n",
       "                datetime  mucnuoc             thoigian  \n",
       "0    2023-12-17 18:00:00     7.88  01:00:00 18/12/2023  \n",
       "1    2023-12-17 21:00:00     7.86  04:00:00 18/12/2023  \n",
       "2    2023-12-18 00:00:00     7.76  07:00:00 18/12/2023  \n",
       "3    2023-12-18 03:00:00     7.70  10:00:00 18/12/2023  \n",
       "4    2023-12-18 06:00:00     7.59  13:00:00 18/12/2023  \n",
       "..                   ...      ...                  ...  \n",
       "595  2023-12-26 19:00:00     0.16  02:00:00 27/12/2023  \n",
       "596  2023-12-26 20:00:00    -0.01  03:00:00 27/12/2023  \n",
       "597  2023-12-26 21:00:00    -0.16  04:00:00 27/12/2023  \n",
       "598  2023-12-26 22:00:00    -0.25  05:00:00 27/12/2023  \n",
       "599  2023-12-26 23:00:00    -0.30  06:00:00 27/12/2023  \n",
       "\n",
       "[600 rows x 8 columns]"
      ]
     },
     "execution_count": 4,
     "metadata": {},
     "output_type": "execute_result"
    }
   ],
   "source": [
    "df"
   ]
  },
  {
   "cell_type": "code",
   "execution_count": 5,
   "metadata": {},
   "outputs": [
    {
     "name": "stdout",
     "output_type": "stream",
     "text": [
      "12\n"
     ]
    },
    {
     "data": {
      "text/html": [
       "<div>\n",
       "<style scoped>\n",
       "    .dataframe tbody tr th:only-of-type {\n",
       "        vertical-align: middle;\n",
       "    }\n",
       "\n",
       "    .dataframe tbody tr th {\n",
       "        vertical-align: top;\n",
       "    }\n",
       "\n",
       "    .dataframe thead th {\n",
       "        text-align: right;\n",
       "    }\n",
       "</style>\n",
       "<table border=\"1\" class=\"dataframe\">\n",
       "  <thead>\n",
       "    <tr style=\"text-align: right;\">\n",
       "      <th></th>\n",
       "      <th>id</th>\n",
       "      <th>mahieu</th>\n",
       "      <th>ten</th>\n",
       "      <th>kinhdo</th>\n",
       "      <th>vido</th>\n",
       "      <th>datetime</th>\n",
       "      <th>mucnuoc</th>\n",
       "      <th>thoigian</th>\n",
       "    </tr>\n",
       "  </thead>\n",
       "  <tbody>\n",
       "    <tr>\n",
       "      <th>47</th>\n",
       "      <td>48</td>\n",
       "      <td>82358e00-714d-49a0-8e8c-5832eb0035ec</td>\n",
       "      <td>Tiên Sa</td>\n",
       "      <td>NaN</td>\n",
       "      <td>NaN</td>\n",
       "      <td>2023-12-17 18:00:00</td>\n",
       "      <td>1.72</td>\n",
       "      <td>01:00:00 18/12/2023</td>\n",
       "    </tr>\n",
       "    <tr>\n",
       "      <th>48</th>\n",
       "      <td>49</td>\n",
       "      <td>82358e00-714d-49a0-8e8c-5832eb0035ec</td>\n",
       "      <td>Tiên Sa</td>\n",
       "      <td>NaN</td>\n",
       "      <td>NaN</td>\n",
       "      <td>2023-12-18 00:00:00</td>\n",
       "      <td>0.84</td>\n",
       "      <td>07:00:00 18/12/2023</td>\n",
       "    </tr>\n",
       "    <tr>\n",
       "      <th>166</th>\n",
       "      <td>167</td>\n",
       "      <td>82358e00-714d-49a0-8e8c-5832eb0035ec</td>\n",
       "      <td>Tiên Sa</td>\n",
       "      <td>NaN</td>\n",
       "      <td>NaN</td>\n",
       "      <td>2023-12-18 18:00:00</td>\n",
       "      <td>1.57</td>\n",
       "      <td>01:00:00 19/12/2023</td>\n",
       "    </tr>\n",
       "    <tr>\n",
       "      <th>167</th>\n",
       "      <td>168</td>\n",
       "      <td>82358e00-714d-49a0-8e8c-5832eb0035ec</td>\n",
       "      <td>Tiên Sa</td>\n",
       "      <td>NaN</td>\n",
       "      <td>NaN</td>\n",
       "      <td>2023-12-19 00:00:00</td>\n",
       "      <td>0.93</td>\n",
       "      <td>07:00:00 19/12/2023</td>\n",
       "    </tr>\n",
       "    <tr>\n",
       "      <th>298</th>\n",
       "      <td>299</td>\n",
       "      <td>82358e00-714d-49a0-8e8c-5832eb0035ec</td>\n",
       "      <td>Tiên Sa</td>\n",
       "      <td>NaN</td>\n",
       "      <td>NaN</td>\n",
       "      <td>2023-12-19 18:00:00</td>\n",
       "      <td>1.35</td>\n",
       "      <td>01:00:00 20/12/2023</td>\n",
       "    </tr>\n",
       "    <tr>\n",
       "      <th>299</th>\n",
       "      <td>300</td>\n",
       "      <td>82358e00-714d-49a0-8e8c-5832eb0035ec</td>\n",
       "      <td>Tiên Sa</td>\n",
       "      <td>NaN</td>\n",
       "      <td>NaN</td>\n",
       "      <td>2023-12-20 00:00:00</td>\n",
       "      <td>1.07</td>\n",
       "      <td>07:00:00 20/12/2023</td>\n",
       "    </tr>\n",
       "    <tr>\n",
       "      <th>415</th>\n",
       "      <td>416</td>\n",
       "      <td>82358e00-714d-49a0-8e8c-5832eb0035ec</td>\n",
       "      <td>Tiên Sa</td>\n",
       "      <td>NaN</td>\n",
       "      <td>NaN</td>\n",
       "      <td>2023-12-24 18:00:00</td>\n",
       "      <td>0.85</td>\n",
       "      <td>01:00:00 25/12/2023</td>\n",
       "    </tr>\n",
       "    <tr>\n",
       "      <th>416</th>\n",
       "      <td>417</td>\n",
       "      <td>82358e00-714d-49a0-8e8c-5832eb0035ec</td>\n",
       "      <td>Tiên Sa</td>\n",
       "      <td>NaN</td>\n",
       "      <td>NaN</td>\n",
       "      <td>2023-12-25 00:00:00</td>\n",
       "      <td>0.95</td>\n",
       "      <td>07:00:00 25/12/2023</td>\n",
       "    </tr>\n",
       "    <tr>\n",
       "      <th>497</th>\n",
       "      <td>498</td>\n",
       "      <td>82358e00-714d-49a0-8e8c-5832eb0035ec</td>\n",
       "      <td>Tiên Sa</td>\n",
       "      <td>NaN</td>\n",
       "      <td>NaN</td>\n",
       "      <td>2023-12-25 18:00:00</td>\n",
       "      <td>0.91</td>\n",
       "      <td>01:00:00 26/12/2023</td>\n",
       "    </tr>\n",
       "    <tr>\n",
       "      <th>498</th>\n",
       "      <td>499</td>\n",
       "      <td>82358e00-714d-49a0-8e8c-5832eb0035ec</td>\n",
       "      <td>Tiên Sa</td>\n",
       "      <td>NaN</td>\n",
       "      <td>NaN</td>\n",
       "      <td>2023-12-26 00:00:00</td>\n",
       "      <td>0.79</td>\n",
       "      <td>07:00:00 26/12/2023</td>\n",
       "    </tr>\n",
       "    <tr>\n",
       "      <th>563</th>\n",
       "      <td>564</td>\n",
       "      <td>82358e00-714d-49a0-8e8c-5832eb0035ec</td>\n",
       "      <td>Tiên Sa</td>\n",
       "      <td>NaN</td>\n",
       "      <td>NaN</td>\n",
       "      <td>2023-12-26 18:00:00</td>\n",
       "      <td>0.99</td>\n",
       "      <td>01:00:00 27/12/2023</td>\n",
       "    </tr>\n",
       "    <tr>\n",
       "      <th>564</th>\n",
       "      <td>565</td>\n",
       "      <td>82358e00-714d-49a0-8e8c-5832eb0035ec</td>\n",
       "      <td>Tiên Sa</td>\n",
       "      <td>NaN</td>\n",
       "      <td>NaN</td>\n",
       "      <td>2023-12-27 00:00:00</td>\n",
       "      <td>0.67</td>\n",
       "      <td>07:00:00 27/12/2023</td>\n",
       "    </tr>\n",
       "  </tbody>\n",
       "</table>\n",
       "</div>"
      ],
      "text/plain": [
       "      id                                mahieu      ten  kinhdo  vido  \\\n",
       "47    48  82358e00-714d-49a0-8e8c-5832eb0035ec  Tiên Sa     NaN   NaN   \n",
       "48    49  82358e00-714d-49a0-8e8c-5832eb0035ec  Tiên Sa     NaN   NaN   \n",
       "166  167  82358e00-714d-49a0-8e8c-5832eb0035ec  Tiên Sa     NaN   NaN   \n",
       "167  168  82358e00-714d-49a0-8e8c-5832eb0035ec  Tiên Sa     NaN   NaN   \n",
       "298  299  82358e00-714d-49a0-8e8c-5832eb0035ec  Tiên Sa     NaN   NaN   \n",
       "299  300  82358e00-714d-49a0-8e8c-5832eb0035ec  Tiên Sa     NaN   NaN   \n",
       "415  416  82358e00-714d-49a0-8e8c-5832eb0035ec  Tiên Sa     NaN   NaN   \n",
       "416  417  82358e00-714d-49a0-8e8c-5832eb0035ec  Tiên Sa     NaN   NaN   \n",
       "497  498  82358e00-714d-49a0-8e8c-5832eb0035ec  Tiên Sa     NaN   NaN   \n",
       "498  499  82358e00-714d-49a0-8e8c-5832eb0035ec  Tiên Sa     NaN   NaN   \n",
       "563  564  82358e00-714d-49a0-8e8c-5832eb0035ec  Tiên Sa     NaN   NaN   \n",
       "564  565  82358e00-714d-49a0-8e8c-5832eb0035ec  Tiên Sa     NaN   NaN   \n",
       "\n",
       "                datetime  mucnuoc             thoigian  \n",
       "47   2023-12-17 18:00:00     1.72  01:00:00 18/12/2023  \n",
       "48   2023-12-18 00:00:00     0.84  07:00:00 18/12/2023  \n",
       "166  2023-12-18 18:00:00     1.57  01:00:00 19/12/2023  \n",
       "167  2023-12-19 00:00:00     0.93  07:00:00 19/12/2023  \n",
       "298  2023-12-19 18:00:00     1.35  01:00:00 20/12/2023  \n",
       "299  2023-12-20 00:00:00     1.07  07:00:00 20/12/2023  \n",
       "415  2023-12-24 18:00:00     0.85  01:00:00 25/12/2023  \n",
       "416  2023-12-25 00:00:00     0.95  07:00:00 25/12/2023  \n",
       "497  2023-12-25 18:00:00     0.91  01:00:00 26/12/2023  \n",
       "498  2023-12-26 00:00:00     0.79  07:00:00 26/12/2023  \n",
       "563  2023-12-26 18:00:00     0.99  01:00:00 27/12/2023  \n",
       "564  2023-12-27 00:00:00     0.67  07:00:00 27/12/2023  "
      ]
     },
     "execution_count": 5,
     "metadata": {},
     "output_type": "execute_result"
    }
   ],
   "source": [
    "rows_with_nulls = df[df.isnull().any(axis=1)]\n",
    "print(len(rows_with_nulls))\n",
    "rows_with_nulls"
   ]
  },
  {
   "cell_type": "code",
   "execution_count": 6,
   "metadata": {},
   "outputs": [
    {
     "name": "stdout",
     "output_type": "stream",
     "text": [
      "12\n"
     ]
    },
    {
     "data": {
      "text/html": [
       "<div>\n",
       "<style scoped>\n",
       "    .dataframe tbody tr th:only-of-type {\n",
       "        vertical-align: middle;\n",
       "    }\n",
       "\n",
       "    .dataframe tbody tr th {\n",
       "        vertical-align: top;\n",
       "    }\n",
       "\n",
       "    .dataframe thead th {\n",
       "        text-align: right;\n",
       "    }\n",
       "</style>\n",
       "<table border=\"1\" class=\"dataframe\">\n",
       "  <thead>\n",
       "    <tr style=\"text-align: right;\">\n",
       "      <th></th>\n",
       "      <th>id</th>\n",
       "      <th>mahieu</th>\n",
       "      <th>ten</th>\n",
       "      <th>kinhdo</th>\n",
       "      <th>vido</th>\n",
       "      <th>datetime</th>\n",
       "      <th>mucnuoc</th>\n",
       "      <th>thoigian</th>\n",
       "    </tr>\n",
       "  </thead>\n",
       "  <tbody>\n",
       "    <tr>\n",
       "      <th>47</th>\n",
       "      <td>48</td>\n",
       "      <td>82358e00-714d-49a0-8e8c-5832eb0035ec</td>\n",
       "      <td>Tiên Sa</td>\n",
       "      <td>NaN</td>\n",
       "      <td>NaN</td>\n",
       "      <td>2023-12-17 18:00:00</td>\n",
       "      <td>1.72</td>\n",
       "      <td>01:00:00 18/12/2023</td>\n",
       "    </tr>\n",
       "    <tr>\n",
       "      <th>48</th>\n",
       "      <td>49</td>\n",
       "      <td>82358e00-714d-49a0-8e8c-5832eb0035ec</td>\n",
       "      <td>Tiên Sa</td>\n",
       "      <td>NaN</td>\n",
       "      <td>NaN</td>\n",
       "      <td>2023-12-18 00:00:00</td>\n",
       "      <td>0.84</td>\n",
       "      <td>07:00:00 18/12/2023</td>\n",
       "    </tr>\n",
       "    <tr>\n",
       "      <th>166</th>\n",
       "      <td>167</td>\n",
       "      <td>82358e00-714d-49a0-8e8c-5832eb0035ec</td>\n",
       "      <td>Tiên Sa</td>\n",
       "      <td>NaN</td>\n",
       "      <td>NaN</td>\n",
       "      <td>2023-12-18 18:00:00</td>\n",
       "      <td>1.57</td>\n",
       "      <td>01:00:00 19/12/2023</td>\n",
       "    </tr>\n",
       "    <tr>\n",
       "      <th>167</th>\n",
       "      <td>168</td>\n",
       "      <td>82358e00-714d-49a0-8e8c-5832eb0035ec</td>\n",
       "      <td>Tiên Sa</td>\n",
       "      <td>NaN</td>\n",
       "      <td>NaN</td>\n",
       "      <td>2023-12-19 00:00:00</td>\n",
       "      <td>0.93</td>\n",
       "      <td>07:00:00 19/12/2023</td>\n",
       "    </tr>\n",
       "    <tr>\n",
       "      <th>298</th>\n",
       "      <td>299</td>\n",
       "      <td>82358e00-714d-49a0-8e8c-5832eb0035ec</td>\n",
       "      <td>Tiên Sa</td>\n",
       "      <td>NaN</td>\n",
       "      <td>NaN</td>\n",
       "      <td>2023-12-19 18:00:00</td>\n",
       "      <td>1.35</td>\n",
       "      <td>01:00:00 20/12/2023</td>\n",
       "    </tr>\n",
       "    <tr>\n",
       "      <th>299</th>\n",
       "      <td>300</td>\n",
       "      <td>82358e00-714d-49a0-8e8c-5832eb0035ec</td>\n",
       "      <td>Tiên Sa</td>\n",
       "      <td>NaN</td>\n",
       "      <td>NaN</td>\n",
       "      <td>2023-12-20 00:00:00</td>\n",
       "      <td>1.07</td>\n",
       "      <td>07:00:00 20/12/2023</td>\n",
       "    </tr>\n",
       "    <tr>\n",
       "      <th>415</th>\n",
       "      <td>416</td>\n",
       "      <td>82358e00-714d-49a0-8e8c-5832eb0035ec</td>\n",
       "      <td>Tiên Sa</td>\n",
       "      <td>NaN</td>\n",
       "      <td>NaN</td>\n",
       "      <td>2023-12-24 18:00:00</td>\n",
       "      <td>0.85</td>\n",
       "      <td>01:00:00 25/12/2023</td>\n",
       "    </tr>\n",
       "    <tr>\n",
       "      <th>416</th>\n",
       "      <td>417</td>\n",
       "      <td>82358e00-714d-49a0-8e8c-5832eb0035ec</td>\n",
       "      <td>Tiên Sa</td>\n",
       "      <td>NaN</td>\n",
       "      <td>NaN</td>\n",
       "      <td>2023-12-25 00:00:00</td>\n",
       "      <td>0.95</td>\n",
       "      <td>07:00:00 25/12/2023</td>\n",
       "    </tr>\n",
       "    <tr>\n",
       "      <th>497</th>\n",
       "      <td>498</td>\n",
       "      <td>82358e00-714d-49a0-8e8c-5832eb0035ec</td>\n",
       "      <td>Tiên Sa</td>\n",
       "      <td>NaN</td>\n",
       "      <td>NaN</td>\n",
       "      <td>2023-12-25 18:00:00</td>\n",
       "      <td>0.91</td>\n",
       "      <td>01:00:00 26/12/2023</td>\n",
       "    </tr>\n",
       "    <tr>\n",
       "      <th>498</th>\n",
       "      <td>499</td>\n",
       "      <td>82358e00-714d-49a0-8e8c-5832eb0035ec</td>\n",
       "      <td>Tiên Sa</td>\n",
       "      <td>NaN</td>\n",
       "      <td>NaN</td>\n",
       "      <td>2023-12-26 00:00:00</td>\n",
       "      <td>0.79</td>\n",
       "      <td>07:00:00 26/12/2023</td>\n",
       "    </tr>\n",
       "    <tr>\n",
       "      <th>563</th>\n",
       "      <td>564</td>\n",
       "      <td>82358e00-714d-49a0-8e8c-5832eb0035ec</td>\n",
       "      <td>Tiên Sa</td>\n",
       "      <td>NaN</td>\n",
       "      <td>NaN</td>\n",
       "      <td>2023-12-26 18:00:00</td>\n",
       "      <td>0.99</td>\n",
       "      <td>01:00:00 27/12/2023</td>\n",
       "    </tr>\n",
       "    <tr>\n",
       "      <th>564</th>\n",
       "      <td>565</td>\n",
       "      <td>82358e00-714d-49a0-8e8c-5832eb0035ec</td>\n",
       "      <td>Tiên Sa</td>\n",
       "      <td>NaN</td>\n",
       "      <td>NaN</td>\n",
       "      <td>2023-12-27 00:00:00</td>\n",
       "      <td>0.67</td>\n",
       "      <td>07:00:00 27/12/2023</td>\n",
       "    </tr>\n",
       "  </tbody>\n",
       "</table>\n",
       "</div>"
      ],
      "text/plain": [
       "      id                                mahieu      ten  kinhdo  vido  \\\n",
       "47    48  82358e00-714d-49a0-8e8c-5832eb0035ec  Tiên Sa     NaN   NaN   \n",
       "48    49  82358e00-714d-49a0-8e8c-5832eb0035ec  Tiên Sa     NaN   NaN   \n",
       "166  167  82358e00-714d-49a0-8e8c-5832eb0035ec  Tiên Sa     NaN   NaN   \n",
       "167  168  82358e00-714d-49a0-8e8c-5832eb0035ec  Tiên Sa     NaN   NaN   \n",
       "298  299  82358e00-714d-49a0-8e8c-5832eb0035ec  Tiên Sa     NaN   NaN   \n",
       "299  300  82358e00-714d-49a0-8e8c-5832eb0035ec  Tiên Sa     NaN   NaN   \n",
       "415  416  82358e00-714d-49a0-8e8c-5832eb0035ec  Tiên Sa     NaN   NaN   \n",
       "416  417  82358e00-714d-49a0-8e8c-5832eb0035ec  Tiên Sa     NaN   NaN   \n",
       "497  498  82358e00-714d-49a0-8e8c-5832eb0035ec  Tiên Sa     NaN   NaN   \n",
       "498  499  82358e00-714d-49a0-8e8c-5832eb0035ec  Tiên Sa     NaN   NaN   \n",
       "563  564  82358e00-714d-49a0-8e8c-5832eb0035ec  Tiên Sa     NaN   NaN   \n",
       "564  565  82358e00-714d-49a0-8e8c-5832eb0035ec  Tiên Sa     NaN   NaN   \n",
       "\n",
       "                datetime  mucnuoc             thoigian  \n",
       "47   2023-12-17 18:00:00     1.72  01:00:00 18/12/2023  \n",
       "48   2023-12-18 00:00:00     0.84  07:00:00 18/12/2023  \n",
       "166  2023-12-18 18:00:00     1.57  01:00:00 19/12/2023  \n",
       "167  2023-12-19 00:00:00     0.93  07:00:00 19/12/2023  \n",
       "298  2023-12-19 18:00:00     1.35  01:00:00 20/12/2023  \n",
       "299  2023-12-20 00:00:00     1.07  07:00:00 20/12/2023  \n",
       "415  2023-12-24 18:00:00     0.85  01:00:00 25/12/2023  \n",
       "416  2023-12-25 00:00:00     0.95  07:00:00 25/12/2023  \n",
       "497  2023-12-25 18:00:00     0.91  01:00:00 26/12/2023  \n",
       "498  2023-12-26 00:00:00     0.79  07:00:00 26/12/2023  \n",
       "563  2023-12-26 18:00:00     0.99  01:00:00 27/12/2023  \n",
       "564  2023-12-27 00:00:00     0.67  07:00:00 27/12/2023  "
      ]
     },
     "execution_count": 6,
     "metadata": {},
     "output_type": "execute_result"
    }
   ],
   "source": [
    "df[['kinhdo', 'vido']] = df.groupby('mahieu')[['kinhdo', 'vido']].fillna(method='ffill')\n",
    "rows_with_nulls = df[df.isnull().any(axis=1)]\n",
    "print(len(rows_with_nulls))\n",
    "rows_with_nulls"
   ]
  },
  {
   "cell_type": "code",
   "execution_count": 7,
   "metadata": {},
   "outputs": [
    {
     "data": {
      "text/html": [
       "<div>\n",
       "<style scoped>\n",
       "    .dataframe tbody tr th:only-of-type {\n",
       "        vertical-align: middle;\n",
       "    }\n",
       "\n",
       "    .dataframe tbody tr th {\n",
       "        vertical-align: top;\n",
       "    }\n",
       "\n",
       "    .dataframe thead th {\n",
       "        text-align: right;\n",
       "    }\n",
       "</style>\n",
       "<table border=\"1\" class=\"dataframe\">\n",
       "  <thead>\n",
       "    <tr style=\"text-align: right;\">\n",
       "      <th></th>\n",
       "      <th>id</th>\n",
       "      <th>mahieu</th>\n",
       "      <th>ten</th>\n",
       "      <th>kinhdo</th>\n",
       "      <th>vido</th>\n",
       "      <th>datetime</th>\n",
       "      <th>mucnuoc</th>\n",
       "      <th>thoigian</th>\n",
       "    </tr>\n",
       "  </thead>\n",
       "  <tbody>\n",
       "    <tr>\n",
       "      <th>0</th>\n",
       "      <td>1</td>\n",
       "      <td>0248df12-4e95-4680-8fc6-e3310655b04c</td>\n",
       "      <td>Nông Sơn</td>\n",
       "      <td>108.0500</td>\n",
       "      <td>15.70000</td>\n",
       "      <td>2023-12-17 18:00:00</td>\n",
       "      <td>7.88</td>\n",
       "      <td>01:00:00 18/12/2023</td>\n",
       "    </tr>\n",
       "    <tr>\n",
       "      <th>1</th>\n",
       "      <td>2</td>\n",
       "      <td>0248df12-4e95-4680-8fc6-e3310655b04c</td>\n",
       "      <td>Nông Sơn</td>\n",
       "      <td>108.0500</td>\n",
       "      <td>15.70000</td>\n",
       "      <td>2023-12-17 21:00:00</td>\n",
       "      <td>7.86</td>\n",
       "      <td>04:00:00 18/12/2023</td>\n",
       "    </tr>\n",
       "    <tr>\n",
       "      <th>2</th>\n",
       "      <td>3</td>\n",
       "      <td>0248df12-4e95-4680-8fc6-e3310655b04c</td>\n",
       "      <td>Nông Sơn</td>\n",
       "      <td>108.0500</td>\n",
       "      <td>15.70000</td>\n",
       "      <td>2023-12-18 00:00:00</td>\n",
       "      <td>7.76</td>\n",
       "      <td>07:00:00 18/12/2023</td>\n",
       "    </tr>\n",
       "    <tr>\n",
       "      <th>3</th>\n",
       "      <td>4</td>\n",
       "      <td>0248df12-4e95-4680-8fc6-e3310655b04c</td>\n",
       "      <td>Nông Sơn</td>\n",
       "      <td>108.0500</td>\n",
       "      <td>15.70000</td>\n",
       "      <td>2023-12-18 03:00:00</td>\n",
       "      <td>7.70</td>\n",
       "      <td>10:00:00 18/12/2023</td>\n",
       "    </tr>\n",
       "    <tr>\n",
       "      <th>4</th>\n",
       "      <td>5</td>\n",
       "      <td>0248df12-4e95-4680-8fc6-e3310655b04c</td>\n",
       "      <td>Nông Sơn</td>\n",
       "      <td>108.0500</td>\n",
       "      <td>15.70000</td>\n",
       "      <td>2023-12-18 06:00:00</td>\n",
       "      <td>7.59</td>\n",
       "      <td>13:00:00 18/12/2023</td>\n",
       "    </tr>\n",
       "    <tr>\n",
       "      <th>...</th>\n",
       "      <td>...</td>\n",
       "      <td>...</td>\n",
       "      <td>...</td>\n",
       "      <td>...</td>\n",
       "      <td>...</td>\n",
       "      <td>...</td>\n",
       "      <td>...</td>\n",
       "      <td>...</td>\n",
       "    </tr>\n",
       "    <tr>\n",
       "      <th>595</th>\n",
       "      <td>596</td>\n",
       "      <td>f8dcdeea-806c-4725-833b-db0305a8a500</td>\n",
       "      <td>Hội An</td>\n",
       "      <td>108.3333</td>\n",
       "      <td>15.86667</td>\n",
       "      <td>2023-12-26 19:00:00</td>\n",
       "      <td>0.16</td>\n",
       "      <td>02:00:00 27/12/2023</td>\n",
       "    </tr>\n",
       "    <tr>\n",
       "      <th>596</th>\n",
       "      <td>597</td>\n",
       "      <td>f8dcdeea-806c-4725-833b-db0305a8a500</td>\n",
       "      <td>Hội An</td>\n",
       "      <td>108.3333</td>\n",
       "      <td>15.86667</td>\n",
       "      <td>2023-12-26 20:00:00</td>\n",
       "      <td>-0.01</td>\n",
       "      <td>03:00:00 27/12/2023</td>\n",
       "    </tr>\n",
       "    <tr>\n",
       "      <th>597</th>\n",
       "      <td>598</td>\n",
       "      <td>f8dcdeea-806c-4725-833b-db0305a8a500</td>\n",
       "      <td>Hội An</td>\n",
       "      <td>108.3333</td>\n",
       "      <td>15.86667</td>\n",
       "      <td>2023-12-26 21:00:00</td>\n",
       "      <td>-0.16</td>\n",
       "      <td>04:00:00 27/12/2023</td>\n",
       "    </tr>\n",
       "    <tr>\n",
       "      <th>598</th>\n",
       "      <td>599</td>\n",
       "      <td>f8dcdeea-806c-4725-833b-db0305a8a500</td>\n",
       "      <td>Hội An</td>\n",
       "      <td>108.3333</td>\n",
       "      <td>15.86667</td>\n",
       "      <td>2023-12-26 22:00:00</td>\n",
       "      <td>-0.25</td>\n",
       "      <td>05:00:00 27/12/2023</td>\n",
       "    </tr>\n",
       "    <tr>\n",
       "      <th>599</th>\n",
       "      <td>600</td>\n",
       "      <td>f8dcdeea-806c-4725-833b-db0305a8a500</td>\n",
       "      <td>Hội An</td>\n",
       "      <td>108.3333</td>\n",
       "      <td>15.86667</td>\n",
       "      <td>2023-12-26 23:00:00</td>\n",
       "      <td>-0.30</td>\n",
       "      <td>06:00:00 27/12/2023</td>\n",
       "    </tr>\n",
       "  </tbody>\n",
       "</table>\n",
       "<p>588 rows × 8 columns</p>\n",
       "</div>"
      ],
      "text/plain": [
       "      id                                mahieu       ten    kinhdo      vido  \\\n",
       "0      1  0248df12-4e95-4680-8fc6-e3310655b04c  Nông Sơn  108.0500  15.70000   \n",
       "1      2  0248df12-4e95-4680-8fc6-e3310655b04c  Nông Sơn  108.0500  15.70000   \n",
       "2      3  0248df12-4e95-4680-8fc6-e3310655b04c  Nông Sơn  108.0500  15.70000   \n",
       "3      4  0248df12-4e95-4680-8fc6-e3310655b04c  Nông Sơn  108.0500  15.70000   \n",
       "4      5  0248df12-4e95-4680-8fc6-e3310655b04c  Nông Sơn  108.0500  15.70000   \n",
       "..   ...                                   ...       ...       ...       ...   \n",
       "595  596  f8dcdeea-806c-4725-833b-db0305a8a500    Hội An  108.3333  15.86667   \n",
       "596  597  f8dcdeea-806c-4725-833b-db0305a8a500    Hội An  108.3333  15.86667   \n",
       "597  598  f8dcdeea-806c-4725-833b-db0305a8a500    Hội An  108.3333  15.86667   \n",
       "598  599  f8dcdeea-806c-4725-833b-db0305a8a500    Hội An  108.3333  15.86667   \n",
       "599  600  f8dcdeea-806c-4725-833b-db0305a8a500    Hội An  108.3333  15.86667   \n",
       "\n",
       "                datetime  mucnuoc             thoigian  \n",
       "0    2023-12-17 18:00:00     7.88  01:00:00 18/12/2023  \n",
       "1    2023-12-17 21:00:00     7.86  04:00:00 18/12/2023  \n",
       "2    2023-12-18 00:00:00     7.76  07:00:00 18/12/2023  \n",
       "3    2023-12-18 03:00:00     7.70  10:00:00 18/12/2023  \n",
       "4    2023-12-18 06:00:00     7.59  13:00:00 18/12/2023  \n",
       "..                   ...      ...                  ...  \n",
       "595  2023-12-26 19:00:00     0.16  02:00:00 27/12/2023  \n",
       "596  2023-12-26 20:00:00    -0.01  03:00:00 27/12/2023  \n",
       "597  2023-12-26 21:00:00    -0.16  04:00:00 27/12/2023  \n",
       "598  2023-12-26 22:00:00    -0.25  05:00:00 27/12/2023  \n",
       "599  2023-12-26 23:00:00    -0.30  06:00:00 27/12/2023  \n",
       "\n",
       "[588 rows x 8 columns]"
      ]
     },
     "execution_count": 7,
     "metadata": {},
     "output_type": "execute_result"
    }
   ],
   "source": [
    "df=df.dropna()\n",
    "df"
   ]
  },
  {
   "cell_type": "code",
   "execution_count": 8,
   "metadata": {},
   "outputs": [
    {
     "data": {
      "text/plain": [
       "array(['0248df12-4e95-4680-8fc6-e3310655b04c',\n",
       "       '1181651c-92d9-4b28-8e6c-60d101d77c33',\n",
       "       '4f61855f-0ace-4e07-85aa-807835e7b237',\n",
       "       '52c0bad3-8e36-4612-b37a-0d0e601061a3',\n",
       "       'bcc09fa2-3aae-48d0-b911-330ddc75f6b7',\n",
       "       'c5cd3d55-ee3e-4658-b0db-106a7b49851e',\n",
       "       'cd3f410c-7bdd-4b01-a427-a6258124fd79',\n",
       "       'eb8324e1-f339-4ff8-8dac-6cb83949f6bc',\n",
       "       'f8dcdeea-806c-4725-833b-db0305a8a500'], dtype=object)"
      ]
     },
     "execution_count": 8,
     "metadata": {},
     "output_type": "execute_result"
    }
   ],
   "source": [
    "df['mahieu'].unique()"
   ]
  },
  {
   "cell_type": "code",
   "execution_count": 9,
   "metadata": {},
   "outputs": [
    {
     "data": {
      "text/html": [
       "<div>\n",
       "<style scoped>\n",
       "    .dataframe tbody tr th:only-of-type {\n",
       "        vertical-align: middle;\n",
       "    }\n",
       "\n",
       "    .dataframe tbody tr th {\n",
       "        vertical-align: top;\n",
       "    }\n",
       "\n",
       "    .dataframe thead th {\n",
       "        text-align: right;\n",
       "    }\n",
       "</style>\n",
       "<table border=\"1\" class=\"dataframe\">\n",
       "  <thead>\n",
       "    <tr style=\"text-align: right;\">\n",
       "      <th></th>\n",
       "      <th>id</th>\n",
       "      <th>kinhdo</th>\n",
       "      <th>vido</th>\n",
       "      <th>mucnuoc</th>\n",
       "    </tr>\n",
       "  </thead>\n",
       "  <tbody>\n",
       "    <tr>\n",
       "      <th>count</th>\n",
       "      <td>588.000000</td>\n",
       "      <td>588.000000</td>\n",
       "      <td>588.000000</td>\n",
       "      <td>588.000000</td>\n",
       "    </tr>\n",
       "    <tr>\n",
       "      <th>mean</th>\n",
       "      <td>299.846939</td>\n",
       "      <td>108.094522</td>\n",
       "      <td>15.882317</td>\n",
       "      <td>5.508895</td>\n",
       "    </tr>\n",
       "    <tr>\n",
       "      <th>std</th>\n",
       "      <td>173.119471</td>\n",
       "      <td>0.178004</td>\n",
       "      <td>0.263213</td>\n",
       "      <td>5.693719</td>\n",
       "    </tr>\n",
       "    <tr>\n",
       "      <th>min</th>\n",
       "      <td>1.000000</td>\n",
       "      <td>107.816700</td>\n",
       "      <td>15.583330</td>\n",
       "      <td>-0.310000</td>\n",
       "    </tr>\n",
       "    <tr>\n",
       "      <th>25%</th>\n",
       "      <td>149.750000</td>\n",
       "      <td>108.016700</td>\n",
       "      <td>15.766670</td>\n",
       "      <td>0.487500</td>\n",
       "    </tr>\n",
       "    <tr>\n",
       "      <th>50%</th>\n",
       "      <td>299.500000</td>\n",
       "      <td>108.116700</td>\n",
       "      <td>15.861940</td>\n",
       "      <td>3.240000</td>\n",
       "    </tr>\n",
       "    <tr>\n",
       "      <th>75%</th>\n",
       "      <td>449.250000</td>\n",
       "      <td>108.283300</td>\n",
       "      <td>15.870835</td>\n",
       "      <td>9.917500</td>\n",
       "    </tr>\n",
       "    <tr>\n",
       "      <th>max</th>\n",
       "      <td>600.000000</td>\n",
       "      <td>108.333300</td>\n",
       "      <td>16.542220</td>\n",
       "      <td>15.790000</td>\n",
       "    </tr>\n",
       "  </tbody>\n",
       "</table>\n",
       "</div>"
      ],
      "text/plain": [
       "               id      kinhdo        vido     mucnuoc\n",
       "count  588.000000  588.000000  588.000000  588.000000\n",
       "mean   299.846939  108.094522   15.882317    5.508895\n",
       "std    173.119471    0.178004    0.263213    5.693719\n",
       "min      1.000000  107.816700   15.583330   -0.310000\n",
       "25%    149.750000  108.016700   15.766670    0.487500\n",
       "50%    299.500000  108.116700   15.861940    3.240000\n",
       "75%    449.250000  108.283300   15.870835    9.917500\n",
       "max    600.000000  108.333300   16.542220   15.790000"
      ]
     },
     "execution_count": 9,
     "metadata": {},
     "output_type": "execute_result"
    }
   ],
   "source": [
    "df.describe()"
   ]
  },
  {
   "cell_type": "code",
   "execution_count": 10,
   "metadata": {},
   "outputs": [],
   "source": [
    "# start_time = '2023-12-25 10:00:00'\n",
    "# end_time = '2023-12-27 10:00:00'\n",
    "\n",
    "# condition = (df['datetime'] >= start_time) & \\\n",
    "#             (df['datetime'] <= end_time)\n",
    "\n",
    "# filtered_df= df[condition]\n",
    "# print(filtered_df.shape)\n",
    "# print(filtered_df['mahieu'].nunique())\n",
    "filtered_df=df"
   ]
  },
  {
   "cell_type": "code",
   "execution_count": 11,
   "metadata": {},
   "outputs": [],
   "source": [
    "# condition = df['mahieu'] == '82358e00-714d-49a0-8e8c-5832eb0035ec'\n",
    "# filtered_df1= df[condition]\n",
    "# filtered_df1"
   ]
  },
  {
   "cell_type": "code",
   "execution_count": 12,
   "metadata": {},
   "outputs": [
    {
     "data": {
      "text/html": [
       "<div>\n",
       "<style scoped>\n",
       "    .dataframe tbody tr th:only-of-type {\n",
       "        vertical-align: middle;\n",
       "    }\n",
       "\n",
       "    .dataframe tbody tr th {\n",
       "        vertical-align: top;\n",
       "    }\n",
       "\n",
       "    .dataframe thead th {\n",
       "        text-align: right;\n",
       "    }\n",
       "</style>\n",
       "<table border=\"1\" class=\"dataframe\">\n",
       "  <thead>\n",
       "    <tr style=\"text-align: right;\">\n",
       "      <th></th>\n",
       "      <th>mahieu</th>\n",
       "      <th>mucnuoc</th>\n",
       "      <th>kinhdo</th>\n",
       "      <th>vido</th>\n",
       "    </tr>\n",
       "  </thead>\n",
       "  <tbody>\n",
       "    <tr>\n",
       "      <th>0</th>\n",
       "      <td>0248df12-4e95-4680-8fc6-e3310655b04c</td>\n",
       "      <td>117.96</td>\n",
       "      <td>108.0500</td>\n",
       "      <td>15.70000</td>\n",
       "    </tr>\n",
       "    <tr>\n",
       "      <th>1</th>\n",
       "      <td>1181651c-92d9-4b28-8e6c-60d101d77c33</td>\n",
       "      <td>262.94</td>\n",
       "      <td>108.1167</td>\n",
       "      <td>15.88333</td>\n",
       "    </tr>\n",
       "    <tr>\n",
       "      <th>2</th>\n",
       "      <td>4f61855f-0ace-4e07-85aa-807835e7b237</td>\n",
       "      <td>1124.45</td>\n",
       "      <td>108.1167</td>\n",
       "      <td>15.58333</td>\n",
       "    </tr>\n",
       "    <tr>\n",
       "      <th>3</th>\n",
       "      <td>52c0bad3-8e36-4612-b37a-0d0e601061a3</td>\n",
       "      <td>36.54</td>\n",
       "      <td>108.2833</td>\n",
       "      <td>15.86194</td>\n",
       "    </tr>\n",
       "    <tr>\n",
       "      <th>4</th>\n",
       "      <td>bcc09fa2-3aae-48d0-b911-330ddc75f6b7</td>\n",
       "      <td>866.82</td>\n",
       "      <td>107.8333</td>\n",
       "      <td>15.76667</td>\n",
       "    </tr>\n",
       "    <tr>\n",
       "      <th>5</th>\n",
       "      <td>c5cd3d55-ee3e-4658-b0db-106a7b49851e</td>\n",
       "      <td>16.76</td>\n",
       "      <td>108.2094</td>\n",
       "      <td>16.54222</td>\n",
       "    </tr>\n",
       "    <tr>\n",
       "      <th>6</th>\n",
       "      <td>cd3f410c-7bdd-4b01-a427-a6258124fd79</td>\n",
       "      <td>88.37</td>\n",
       "      <td>108.0167</td>\n",
       "      <td>15.76667</td>\n",
       "    </tr>\n",
       "    <tr>\n",
       "      <th>7</th>\n",
       "      <td>eb8324e1-f339-4ff8-8dac-6cb83949f6bc</td>\n",
       "      <td>705.55</td>\n",
       "      <td>107.8167</td>\n",
       "      <td>15.81667</td>\n",
       "    </tr>\n",
       "    <tr>\n",
       "      <th>8</th>\n",
       "      <td>f8dcdeea-806c-4725-833b-db0305a8a500</td>\n",
       "      <td>19.84</td>\n",
       "      <td>108.3333</td>\n",
       "      <td>15.86667</td>\n",
       "    </tr>\n",
       "  </tbody>\n",
       "</table>\n",
       "</div>"
      ],
      "text/plain": [
       "                                 mahieu  mucnuoc    kinhdo      vido\n",
       "0  0248df12-4e95-4680-8fc6-e3310655b04c   117.96  108.0500  15.70000\n",
       "1  1181651c-92d9-4b28-8e6c-60d101d77c33   262.94  108.1167  15.88333\n",
       "2  4f61855f-0ace-4e07-85aa-807835e7b237  1124.45  108.1167  15.58333\n",
       "3  52c0bad3-8e36-4612-b37a-0d0e601061a3    36.54  108.2833  15.86194\n",
       "4  bcc09fa2-3aae-48d0-b911-330ddc75f6b7   866.82  107.8333  15.76667\n",
       "5  c5cd3d55-ee3e-4658-b0db-106a7b49851e    16.76  108.2094  16.54222\n",
       "6  cd3f410c-7bdd-4b01-a427-a6258124fd79    88.37  108.0167  15.76667\n",
       "7  eb8324e1-f339-4ff8-8dac-6cb83949f6bc   705.55  107.8167  15.81667\n",
       "8  f8dcdeea-806c-4725-833b-db0305a8a500    19.84  108.3333  15.86667"
      ]
     },
     "execution_count": 12,
     "metadata": {},
     "output_type": "execute_result"
    }
   ],
   "source": [
    "grouped_df = filtered_df.groupby('mahieu').agg({'mucnuoc': 'sum', 'kinhdo': 'first', 'vido': 'first'}).reset_index()\n",
    "grouped_df"
   ]
  },
  {
   "cell_type": "code",
   "execution_count": 13,
   "metadata": {},
   "outputs": [
    {
     "data": {
      "application/vnd.plotly.v1+json": {
       "config": {
        "plotlyServerURL": "https://plot.ly"
       },
       "data": [
        {
         "hovertemplate": "mucnuoc=%{marker.color}<br>vido=%{lat}<br>kinhdo=%{lon}<extra></extra>",
         "lat": [
          15.699999999991931,
          15.883329999990671,
          15.583329999990827,
          15.861939999987088,
          15.766669999994894,
          16.54221999998835,
          15.766669999992436,
          15.816669999995057,
          15.8666699999858
         ],
         "legendgroup": "",
         "lon": [
          108.04999999996674,
          108.11669999996468,
          108.11669999996192,
          108.28329999995411,
          107.83329999997721,
          108.2093999999663,
          108.01669999996899,
          107.81669999997813,
          108.33329999995064
         ],
         "marker": {
          "color": [
           117.96,
           262.94,
           1124.45,
           36.54,
           866.82,
           16.76,
           88.37,
           705.55,
           19.84
          ],
          "coloraxis": "coloraxis",
          "opacity": 0.5,
          "size": [
           117.96,
           262.94,
           1124.45,
           36.54,
           866.82,
           16.76,
           88.37,
           705.55,
           19.84
          ],
          "sizemode": "area",
          "sizeref": 1.2493888888888889
         },
         "mode": "markers",
         "name": "",
         "showlegend": false,
         "subplot": "mapbox",
         "type": "scattermapbox"
        }
       ],
       "layout": {
        "coloraxis": {
         "colorbar": {
          "title": {
           "text": "mucnuoc"
          }
         },
         "colorscale": [
          [
           0,
           "rgb(150,0,90)"
          ],
          [
           0.125,
           "rgb(0,0,200)"
          ],
          [
           0.25,
           "rgb(0,25,255)"
          ],
          [
           0.375,
           "rgb(0,152,255)"
          ],
          [
           0.5,
           "rgb(44,255,150)"
          ],
          [
           0.625,
           "rgb(151,255,0)"
          ],
          [
           0.75,
           "rgb(255,234,0)"
          ],
          [
           0.875,
           "rgb(255,111,0)"
          ],
          [
           1,
           "rgb(255,0,0)"
          ]
         ]
        },
        "height": 800,
        "legend": {
         "itemsizing": "constant",
         "tracegroupgap": 0
        },
        "mapbox": {
         "center": {
          "lat": 14.0583,
          "lon": 108.2772
         },
         "domain": {
          "x": [
           0,
           1
          ],
          "y": [
           0,
           1
          ]
         },
         "style": "open-street-map",
         "zoom": 0
        },
        "margin": {
         "t": 60
        },
        "template": {
         "data": {
          "bar": [
           {
            "error_x": {
             "color": "#2a3f5f"
            },
            "error_y": {
             "color": "#2a3f5f"
            },
            "marker": {
             "line": {
              "color": "#E5ECF6",
              "width": 0.5
             },
             "pattern": {
              "fillmode": "overlay",
              "size": 10,
              "solidity": 0.2
             }
            },
            "type": "bar"
           }
          ],
          "barpolar": [
           {
            "marker": {
             "line": {
              "color": "#E5ECF6",
              "width": 0.5
             },
             "pattern": {
              "fillmode": "overlay",
              "size": 10,
              "solidity": 0.2
             }
            },
            "type": "barpolar"
           }
          ],
          "carpet": [
           {
            "aaxis": {
             "endlinecolor": "#2a3f5f",
             "gridcolor": "white",
             "linecolor": "white",
             "minorgridcolor": "white",
             "startlinecolor": "#2a3f5f"
            },
            "baxis": {
             "endlinecolor": "#2a3f5f",
             "gridcolor": "white",
             "linecolor": "white",
             "minorgridcolor": "white",
             "startlinecolor": "#2a3f5f"
            },
            "type": "carpet"
           }
          ],
          "choropleth": [
           {
            "colorbar": {
             "outlinewidth": 0,
             "ticks": ""
            },
            "type": "choropleth"
           }
          ],
          "contour": [
           {
            "colorbar": {
             "outlinewidth": 0,
             "ticks": ""
            },
            "colorscale": [
             [
              0,
              "#0d0887"
             ],
             [
              0.1111111111111111,
              "#46039f"
             ],
             [
              0.2222222222222222,
              "#7201a8"
             ],
             [
              0.3333333333333333,
              "#9c179e"
             ],
             [
              0.4444444444444444,
              "#bd3786"
             ],
             [
              0.5555555555555556,
              "#d8576b"
             ],
             [
              0.6666666666666666,
              "#ed7953"
             ],
             [
              0.7777777777777778,
              "#fb9f3a"
             ],
             [
              0.8888888888888888,
              "#fdca26"
             ],
             [
              1,
              "#f0f921"
             ]
            ],
            "type": "contour"
           }
          ],
          "contourcarpet": [
           {
            "colorbar": {
             "outlinewidth": 0,
             "ticks": ""
            },
            "type": "contourcarpet"
           }
          ],
          "heatmap": [
           {
            "colorbar": {
             "outlinewidth": 0,
             "ticks": ""
            },
            "colorscale": [
             [
              0,
              "#0d0887"
             ],
             [
              0.1111111111111111,
              "#46039f"
             ],
             [
              0.2222222222222222,
              "#7201a8"
             ],
             [
              0.3333333333333333,
              "#9c179e"
             ],
             [
              0.4444444444444444,
              "#bd3786"
             ],
             [
              0.5555555555555556,
              "#d8576b"
             ],
             [
              0.6666666666666666,
              "#ed7953"
             ],
             [
              0.7777777777777778,
              "#fb9f3a"
             ],
             [
              0.8888888888888888,
              "#fdca26"
             ],
             [
              1,
              "#f0f921"
             ]
            ],
            "type": "heatmap"
           }
          ],
          "heatmapgl": [
           {
            "colorbar": {
             "outlinewidth": 0,
             "ticks": ""
            },
            "colorscale": [
             [
              0,
              "#0d0887"
             ],
             [
              0.1111111111111111,
              "#46039f"
             ],
             [
              0.2222222222222222,
              "#7201a8"
             ],
             [
              0.3333333333333333,
              "#9c179e"
             ],
             [
              0.4444444444444444,
              "#bd3786"
             ],
             [
              0.5555555555555556,
              "#d8576b"
             ],
             [
              0.6666666666666666,
              "#ed7953"
             ],
             [
              0.7777777777777778,
              "#fb9f3a"
             ],
             [
              0.8888888888888888,
              "#fdca26"
             ],
             [
              1,
              "#f0f921"
             ]
            ],
            "type": "heatmapgl"
           }
          ],
          "histogram": [
           {
            "marker": {
             "pattern": {
              "fillmode": "overlay",
              "size": 10,
              "solidity": 0.2
             }
            },
            "type": "histogram"
           }
          ],
          "histogram2d": [
           {
            "colorbar": {
             "outlinewidth": 0,
             "ticks": ""
            },
            "colorscale": [
             [
              0,
              "#0d0887"
             ],
             [
              0.1111111111111111,
              "#46039f"
             ],
             [
              0.2222222222222222,
              "#7201a8"
             ],
             [
              0.3333333333333333,
              "#9c179e"
             ],
             [
              0.4444444444444444,
              "#bd3786"
             ],
             [
              0.5555555555555556,
              "#d8576b"
             ],
             [
              0.6666666666666666,
              "#ed7953"
             ],
             [
              0.7777777777777778,
              "#fb9f3a"
             ],
             [
              0.8888888888888888,
              "#fdca26"
             ],
             [
              1,
              "#f0f921"
             ]
            ],
            "type": "histogram2d"
           }
          ],
          "histogram2dcontour": [
           {
            "colorbar": {
             "outlinewidth": 0,
             "ticks": ""
            },
            "colorscale": [
             [
              0,
              "#0d0887"
             ],
             [
              0.1111111111111111,
              "#46039f"
             ],
             [
              0.2222222222222222,
              "#7201a8"
             ],
             [
              0.3333333333333333,
              "#9c179e"
             ],
             [
              0.4444444444444444,
              "#bd3786"
             ],
             [
              0.5555555555555556,
              "#d8576b"
             ],
             [
              0.6666666666666666,
              "#ed7953"
             ],
             [
              0.7777777777777778,
              "#fb9f3a"
             ],
             [
              0.8888888888888888,
              "#fdca26"
             ],
             [
              1,
              "#f0f921"
             ]
            ],
            "type": "histogram2dcontour"
           }
          ],
          "mesh3d": [
           {
            "colorbar": {
             "outlinewidth": 0,
             "ticks": ""
            },
            "type": "mesh3d"
           }
          ],
          "parcoords": [
           {
            "line": {
             "colorbar": {
              "outlinewidth": 0,
              "ticks": ""
             }
            },
            "type": "parcoords"
           }
          ],
          "pie": [
           {
            "automargin": true,
            "type": "pie"
           }
          ],
          "scatter": [
           {
            "fillpattern": {
             "fillmode": "overlay",
             "size": 10,
             "solidity": 0.2
            },
            "type": "scatter"
           }
          ],
          "scatter3d": [
           {
            "line": {
             "colorbar": {
              "outlinewidth": 0,
              "ticks": ""
             }
            },
            "marker": {
             "colorbar": {
              "outlinewidth": 0,
              "ticks": ""
             }
            },
            "type": "scatter3d"
           }
          ],
          "scattercarpet": [
           {
            "marker": {
             "colorbar": {
              "outlinewidth": 0,
              "ticks": ""
             }
            },
            "type": "scattercarpet"
           }
          ],
          "scattergeo": [
           {
            "marker": {
             "colorbar": {
              "outlinewidth": 0,
              "ticks": ""
             }
            },
            "type": "scattergeo"
           }
          ],
          "scattergl": [
           {
            "marker": {
             "colorbar": {
              "outlinewidth": 0,
              "ticks": ""
             }
            },
            "type": "scattergl"
           }
          ],
          "scattermapbox": [
           {
            "marker": {
             "colorbar": {
              "outlinewidth": 0,
              "ticks": ""
             }
            },
            "type": "scattermapbox"
           }
          ],
          "scatterpolar": [
           {
            "marker": {
             "colorbar": {
              "outlinewidth": 0,
              "ticks": ""
             }
            },
            "type": "scatterpolar"
           }
          ],
          "scatterpolargl": [
           {
            "marker": {
             "colorbar": {
              "outlinewidth": 0,
              "ticks": ""
             }
            },
            "type": "scatterpolargl"
           }
          ],
          "scatterternary": [
           {
            "marker": {
             "colorbar": {
              "outlinewidth": 0,
              "ticks": ""
             }
            },
            "type": "scatterternary"
           }
          ],
          "surface": [
           {
            "colorbar": {
             "outlinewidth": 0,
             "ticks": ""
            },
            "colorscale": [
             [
              0,
              "#0d0887"
             ],
             [
              0.1111111111111111,
              "#46039f"
             ],
             [
              0.2222222222222222,
              "#7201a8"
             ],
             [
              0.3333333333333333,
              "#9c179e"
             ],
             [
              0.4444444444444444,
              "#bd3786"
             ],
             [
              0.5555555555555556,
              "#d8576b"
             ],
             [
              0.6666666666666666,
              "#ed7953"
             ],
             [
              0.7777777777777778,
              "#fb9f3a"
             ],
             [
              0.8888888888888888,
              "#fdca26"
             ],
             [
              1,
              "#f0f921"
             ]
            ],
            "type": "surface"
           }
          ],
          "table": [
           {
            "cells": {
             "fill": {
              "color": "#EBF0F8"
             },
             "line": {
              "color": "white"
             }
            },
            "header": {
             "fill": {
              "color": "#C8D4E3"
             },
             "line": {
              "color": "white"
             }
            },
            "type": "table"
           }
          ]
         },
         "layout": {
          "annotationdefaults": {
           "arrowcolor": "#2a3f5f",
           "arrowhead": 0,
           "arrowwidth": 1
          },
          "autotypenumbers": "strict",
          "coloraxis": {
           "colorbar": {
            "outlinewidth": 0,
            "ticks": ""
           }
          },
          "colorscale": {
           "diverging": [
            [
             0,
             "#8e0152"
            ],
            [
             0.1,
             "#c51b7d"
            ],
            [
             0.2,
             "#de77ae"
            ],
            [
             0.3,
             "#f1b6da"
            ],
            [
             0.4,
             "#fde0ef"
            ],
            [
             0.5,
             "#f7f7f7"
            ],
            [
             0.6,
             "#e6f5d0"
            ],
            [
             0.7,
             "#b8e186"
            ],
            [
             0.8,
             "#7fbc41"
            ],
            [
             0.9,
             "#4d9221"
            ],
            [
             1,
             "#276419"
            ]
           ],
           "sequential": [
            [
             0,
             "#0d0887"
            ],
            [
             0.1111111111111111,
             "#46039f"
            ],
            [
             0.2222222222222222,
             "#7201a8"
            ],
            [
             0.3333333333333333,
             "#9c179e"
            ],
            [
             0.4444444444444444,
             "#bd3786"
            ],
            [
             0.5555555555555556,
             "#d8576b"
            ],
            [
             0.6666666666666666,
             "#ed7953"
            ],
            [
             0.7777777777777778,
             "#fb9f3a"
            ],
            [
             0.8888888888888888,
             "#fdca26"
            ],
            [
             1,
             "#f0f921"
            ]
           ],
           "sequentialminus": [
            [
             0,
             "#0d0887"
            ],
            [
             0.1111111111111111,
             "#46039f"
            ],
            [
             0.2222222222222222,
             "#7201a8"
            ],
            [
             0.3333333333333333,
             "#9c179e"
            ],
            [
             0.4444444444444444,
             "#bd3786"
            ],
            [
             0.5555555555555556,
             "#d8576b"
            ],
            [
             0.6666666666666666,
             "#ed7953"
            ],
            [
             0.7777777777777778,
             "#fb9f3a"
            ],
            [
             0.8888888888888888,
             "#fdca26"
            ],
            [
             1,
             "#f0f921"
            ]
           ]
          },
          "colorway": [
           "#636efa",
           "#EF553B",
           "#00cc96",
           "#ab63fa",
           "#FFA15A",
           "#19d3f3",
           "#FF6692",
           "#B6E880",
           "#FF97FF",
           "#FECB52"
          ],
          "font": {
           "color": "#2a3f5f"
          },
          "geo": {
           "bgcolor": "white",
           "lakecolor": "white",
           "landcolor": "#E5ECF6",
           "showlakes": true,
           "showland": true,
           "subunitcolor": "white"
          },
          "hoverlabel": {
           "align": "left"
          },
          "hovermode": "closest",
          "mapbox": {
           "style": "light"
          },
          "paper_bgcolor": "white",
          "plot_bgcolor": "#E5ECF6",
          "polar": {
           "angularaxis": {
            "gridcolor": "white",
            "linecolor": "white",
            "ticks": ""
           },
           "bgcolor": "#E5ECF6",
           "radialaxis": {
            "gridcolor": "white",
            "linecolor": "white",
            "ticks": ""
           }
          },
          "scene": {
           "xaxis": {
            "backgroundcolor": "#E5ECF6",
            "gridcolor": "white",
            "gridwidth": 2,
            "linecolor": "white",
            "showbackground": true,
            "ticks": "",
            "zerolinecolor": "white"
           },
           "yaxis": {
            "backgroundcolor": "#E5ECF6",
            "gridcolor": "white",
            "gridwidth": 2,
            "linecolor": "white",
            "showbackground": true,
            "ticks": "",
            "zerolinecolor": "white"
           },
           "zaxis": {
            "backgroundcolor": "#E5ECF6",
            "gridcolor": "white",
            "gridwidth": 2,
            "linecolor": "white",
            "showbackground": true,
            "ticks": "",
            "zerolinecolor": "white"
           }
          },
          "shapedefaults": {
           "line": {
            "color": "#2a3f5f"
           }
          },
          "ternary": {
           "aaxis": {
            "gridcolor": "white",
            "linecolor": "white",
            "ticks": ""
           },
           "baxis": {
            "gridcolor": "white",
            "linecolor": "white",
            "ticks": ""
           },
           "bgcolor": "#E5ECF6",
           "caxis": {
            "gridcolor": "white",
            "linecolor": "white",
            "ticks": ""
           }
          },
          "title": {
           "x": 0.05
          },
          "xaxis": {
           "automargin": true,
           "gridcolor": "white",
           "linecolor": "white",
           "ticks": "",
           "title": {
            "standoff": 15
           },
           "zerolinecolor": "white",
           "zerolinewidth": 2
          },
          "yaxis": {
           "automargin": true,
           "gridcolor": "white",
           "linecolor": "white",
           "ticks": "",
           "title": {
            "standoff": 15
           },
           "zerolinecolor": "white",
           "zerolinewidth": 2
          }
         }
        }
       }
      }
     },
     "metadata": {},
     "output_type": "display_data"
    }
   ],
   "source": [
    "import plotly.express as px\n",
    "fig_n = px.scatter_mapbox(grouped_df, lat = 'vido', lon = 'kinhdo',\n",
    "                        color='mucnuoc',\n",
    "                        size = 'mucnuoc',\n",
    "                        center = dict(lat = 14.0583 , lon = 108.2772),\n",
    "                        size_max = 30,\n",
    "                        zoom = 0,\n",
    "                        mapbox_style = 'open-street-map',\n",
    "                        color_continuous_scale = 'rainbow',\n",
    "                        opacity = 0.5,\n",
    "                        height= 800\n",
    "                        )\n",
    "fig_n.show()"
   ]
  }
 ],
 "metadata": {
  "kernelspec": {
   "display_name": "Python 3",
   "language": "python",
   "name": "python3"
  },
  "language_info": {
   "codemirror_mode": {
    "name": "ipython",
    "version": 3
   },
   "file_extension": ".py",
   "mimetype": "text/x-python",
   "name": "python",
   "nbconvert_exporter": "python",
   "pygments_lexer": "ipython3",
   "version": "3.8.10"
  }
 },
 "nbformat": 4,
 "nbformat_minor": 2
}
