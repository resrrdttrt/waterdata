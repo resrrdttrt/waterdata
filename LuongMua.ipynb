{
 "cells": [
  {
   "cell_type": "code",
   "execution_count": 1,
   "metadata": {},
   "outputs": [],
   "source": [
    "import sqlite3\n",
    "import pandas as pd\n",
    "\n",
    "conn = sqlite3.connect(\"IWE_data.db\")\n",
    "\n",
    "# sql_query = \"SELECT * FROM ho_thuy_dien\"\n",
    "# htd_df = pd.read_sql_query(sql_query, conn)\n",
    "\n",
    "# sql_query = \"SELECT * FROM ho_thuy_loi\"\n",
    "# htl_df = pd.read_sql_query(sql_query, conn)\n",
    "\n",
    "sql_query = \"SELECT * FROM luong_mua\"\n",
    "# lm_df = pd.read_sql_query(sql_query, conn)\n",
    "df = pd.read_sql_query(sql_query, conn)\n",
    "\n",
    "\n",
    "# sql_query = \"SELECT * FROM muc_nuoc_thuy_van\"\n",
    "# mntv_df = pd.read_sql_query(sql_query, conn)\n",
    "\n",
    "conn.close()"
   ]
  },
  {
   "cell_type": "code",
   "execution_count": 2,
   "metadata": {},
   "outputs": [
    {
     "data": {
      "text/html": [
       "<div>\n",
       "<style scoped>\n",
       "    .dataframe tbody tr th:only-of-type {\n",
       "        vertical-align: middle;\n",
       "    }\n",
       "\n",
       "    .dataframe tbody tr th {\n",
       "        vertical-align: top;\n",
       "    }\n",
       "\n",
       "    .dataframe thead th {\n",
       "        text-align: right;\n",
       "    }\n",
       "</style>\n",
       "<table border=\"1\" class=\"dataframe\">\n",
       "  <thead>\n",
       "    <tr style=\"text-align: right;\">\n",
       "      <th></th>\n",
       "      <th>id</th>\n",
       "      <th>mahieu</th>\n",
       "      <th>ten</th>\n",
       "      <th>kinhdo</th>\n",
       "      <th>vido</th>\n",
       "      <th>datetime</th>\n",
       "      <th>luongmua</th>\n",
       "      <th>thoigian</th>\n",
       "    </tr>\n",
       "  </thead>\n",
       "  <tbody>\n",
       "    <tr>\n",
       "      <th>0</th>\n",
       "      <td>1</td>\n",
       "      <td>0248df12-4e95-4680-8fc6-e3310655b04c</td>\n",
       "      <td>Nông Sơn</td>\n",
       "      <td>108.050000</td>\n",
       "      <td>15.700000</td>\n",
       "      <td>2023-12-17 18:00:00</td>\n",
       "      <td>0.0</td>\n",
       "      <td>01:00:00 18/12/2023</td>\n",
       "    </tr>\n",
       "    <tr>\n",
       "      <th>1</th>\n",
       "      <td>2</td>\n",
       "      <td>0248df12-4e95-4680-8fc6-e3310655b04c</td>\n",
       "      <td>Nông Sơn</td>\n",
       "      <td>108.050000</td>\n",
       "      <td>15.700000</td>\n",
       "      <td>2023-12-18 00:00:00</td>\n",
       "      <td>3.0</td>\n",
       "      <td>07:00:00 18/12/2023</td>\n",
       "    </tr>\n",
       "    <tr>\n",
       "      <th>2</th>\n",
       "      <td>3</td>\n",
       "      <td>0248df12-4e95-4680-8fc6-e3310655b04c</td>\n",
       "      <td>Nông Sơn</td>\n",
       "      <td>108.050000</td>\n",
       "      <td>15.700000</td>\n",
       "      <td>2023-12-18 06:00:00</td>\n",
       "      <td>2.0</td>\n",
       "      <td>13:00:00 18/12/2023</td>\n",
       "    </tr>\n",
       "    <tr>\n",
       "      <th>3</th>\n",
       "      <td>4</td>\n",
       "      <td>086759bb-a373-4616-8d31-e2c29c562a3f</td>\n",
       "      <td>Cầu Vĩnh Điện</td>\n",
       "      <td>108.247891</td>\n",
       "      <td>15.901677</td>\n",
       "      <td>2023-12-17 17:00:00</td>\n",
       "      <td>1.4</td>\n",
       "      <td>00:00:00 18/12/2023</td>\n",
       "    </tr>\n",
       "    <tr>\n",
       "      <th>4</th>\n",
       "      <td>5</td>\n",
       "      <td>086759bb-a373-4616-8d31-e2c29c562a3f</td>\n",
       "      <td>Cầu Vĩnh Điện</td>\n",
       "      <td>108.247891</td>\n",
       "      <td>15.901677</td>\n",
       "      <td>2023-12-17 18:00:00</td>\n",
       "      <td>0.2</td>\n",
       "      <td>01:00:00 18/12/2023</td>\n",
       "    </tr>\n",
       "    <tr>\n",
       "      <th>...</th>\n",
       "      <td>...</td>\n",
       "      <td>...</td>\n",
       "      <td>...</td>\n",
       "      <td>...</td>\n",
       "      <td>...</td>\n",
       "      <td>...</td>\n",
       "      <td>...</td>\n",
       "      <td>...</td>\n",
       "    </tr>\n",
       "    <tr>\n",
       "      <th>5758</th>\n",
       "      <td>5759</td>\n",
       "      <td>fedf51e0-fcc8-4124-9d73-e378197b9789</td>\n",
       "      <td>Đại học Bách Khoa Đà Nẵng</td>\n",
       "      <td>108.153458</td>\n",
       "      <td>16.077385</td>\n",
       "      <td>2023-12-26 21:00:00</td>\n",
       "      <td>0.2</td>\n",
       "      <td>04:00:00 27/12/2023</td>\n",
       "    </tr>\n",
       "    <tr>\n",
       "      <th>5759</th>\n",
       "      <td>5760</td>\n",
       "      <td>fedf51e0-fcc8-4124-9d73-e378197b9789</td>\n",
       "      <td>Đại học Bách Khoa Đà Nẵng</td>\n",
       "      <td>108.153458</td>\n",
       "      <td>16.077385</td>\n",
       "      <td>2023-12-26 22:00:00</td>\n",
       "      <td>0.0</td>\n",
       "      <td>05:00:00 27/12/2023</td>\n",
       "    </tr>\n",
       "    <tr>\n",
       "      <th>5760</th>\n",
       "      <td>5761</td>\n",
       "      <td>fedf51e0-fcc8-4124-9d73-e378197b9789</td>\n",
       "      <td>Đại học Bách Khoa Đà Nẵng</td>\n",
       "      <td>108.153458</td>\n",
       "      <td>16.077385</td>\n",
       "      <td>2023-12-26 23:00:00</td>\n",
       "      <td>0.0</td>\n",
       "      <td>06:00:00 27/12/2023</td>\n",
       "    </tr>\n",
       "    <tr>\n",
       "      <th>5761</th>\n",
       "      <td>5762</td>\n",
       "      <td>fedf51e0-fcc8-4124-9d73-e378197b9789</td>\n",
       "      <td>Đại học Bách Khoa Đà Nẵng</td>\n",
       "      <td>108.153458</td>\n",
       "      <td>16.077385</td>\n",
       "      <td>2023-12-27 00:00:00</td>\n",
       "      <td>0.0</td>\n",
       "      <td>07:00:00 27/12/2023</td>\n",
       "    </tr>\n",
       "    <tr>\n",
       "      <th>5762</th>\n",
       "      <td>5763</td>\n",
       "      <td>fedf51e0-fcc8-4124-9d73-e378197b9789</td>\n",
       "      <td>Đại học Bách Khoa Đà Nẵng</td>\n",
       "      <td>108.153458</td>\n",
       "      <td>16.077385</td>\n",
       "      <td>2023-12-27 01:00:00</td>\n",
       "      <td>0.0</td>\n",
       "      <td>08:00:00 27/12/2023</td>\n",
       "    </tr>\n",
       "  </tbody>\n",
       "</table>\n",
       "<p>5763 rows × 8 columns</p>\n",
       "</div>"
      ],
      "text/plain": [
       "        id                                mahieu                        ten  \\\n",
       "0        1  0248df12-4e95-4680-8fc6-e3310655b04c                   Nông Sơn   \n",
       "1        2  0248df12-4e95-4680-8fc6-e3310655b04c                   Nông Sơn   \n",
       "2        3  0248df12-4e95-4680-8fc6-e3310655b04c                   Nông Sơn   \n",
       "3        4  086759bb-a373-4616-8d31-e2c29c562a3f              Cầu Vĩnh Điện   \n",
       "4        5  086759bb-a373-4616-8d31-e2c29c562a3f              Cầu Vĩnh Điện   \n",
       "...    ...                                   ...                        ...   \n",
       "5758  5759  fedf51e0-fcc8-4124-9d73-e378197b9789  Đại học Bách Khoa Đà Nẵng   \n",
       "5759  5760  fedf51e0-fcc8-4124-9d73-e378197b9789  Đại học Bách Khoa Đà Nẵng   \n",
       "5760  5761  fedf51e0-fcc8-4124-9d73-e378197b9789  Đại học Bách Khoa Đà Nẵng   \n",
       "5761  5762  fedf51e0-fcc8-4124-9d73-e378197b9789  Đại học Bách Khoa Đà Nẵng   \n",
       "5762  5763  fedf51e0-fcc8-4124-9d73-e378197b9789  Đại học Bách Khoa Đà Nẵng   \n",
       "\n",
       "          kinhdo       vido             datetime  luongmua  \\\n",
       "0     108.050000  15.700000  2023-12-17 18:00:00       0.0   \n",
       "1     108.050000  15.700000  2023-12-18 00:00:00       3.0   \n",
       "2     108.050000  15.700000  2023-12-18 06:00:00       2.0   \n",
       "3     108.247891  15.901677  2023-12-17 17:00:00       1.4   \n",
       "4     108.247891  15.901677  2023-12-17 18:00:00       0.2   \n",
       "...          ...        ...                  ...       ...   \n",
       "5758  108.153458  16.077385  2023-12-26 21:00:00       0.2   \n",
       "5759  108.153458  16.077385  2023-12-26 22:00:00       0.0   \n",
       "5760  108.153458  16.077385  2023-12-26 23:00:00       0.0   \n",
       "5761  108.153458  16.077385  2023-12-27 00:00:00       0.0   \n",
       "5762  108.153458  16.077385  2023-12-27 01:00:00       0.0   \n",
       "\n",
       "                 thoigian  \n",
       "0     01:00:00 18/12/2023  \n",
       "1     07:00:00 18/12/2023  \n",
       "2     13:00:00 18/12/2023  \n",
       "3     00:00:00 18/12/2023  \n",
       "4     01:00:00 18/12/2023  \n",
       "...                   ...  \n",
       "5758  04:00:00 27/12/2023  \n",
       "5759  05:00:00 27/12/2023  \n",
       "5760  06:00:00 27/12/2023  \n",
       "5761  07:00:00 27/12/2023  \n",
       "5762  08:00:00 27/12/2023  \n",
       "\n",
       "[5763 rows x 8 columns]"
      ]
     },
     "execution_count": 2,
     "metadata": {},
     "output_type": "execute_result"
    }
   ],
   "source": [
    "df"
   ]
  },
  {
   "cell_type": "code",
   "execution_count": 3,
   "metadata": {},
   "outputs": [
    {
     "name": "stdout",
     "output_type": "stream",
     "text": [
      "29\n"
     ]
    },
    {
     "data": {
      "text/html": [
       "<div>\n",
       "<style scoped>\n",
       "    .dataframe tbody tr th:only-of-type {\n",
       "        vertical-align: middle;\n",
       "    }\n",
       "\n",
       "    .dataframe tbody tr th {\n",
       "        vertical-align: top;\n",
       "    }\n",
       "\n",
       "    .dataframe thead th {\n",
       "        text-align: right;\n",
       "    }\n",
       "</style>\n",
       "<table border=\"1\" class=\"dataframe\">\n",
       "  <thead>\n",
       "    <tr style=\"text-align: right;\">\n",
       "      <th></th>\n",
       "      <th>id</th>\n",
       "      <th>mahieu</th>\n",
       "      <th>ten</th>\n",
       "      <th>kinhdo</th>\n",
       "      <th>vido</th>\n",
       "      <th>datetime</th>\n",
       "      <th>luongmua</th>\n",
       "      <th>thoigian</th>\n",
       "    </tr>\n",
       "  </thead>\n",
       "  <tbody>\n",
       "    <tr>\n",
       "      <th>526</th>\n",
       "      <td>527</td>\n",
       "      <td>82358e00-714d-49a0-8e8c-5832eb0035ec</td>\n",
       "      <td>Tiên Sa</td>\n",
       "      <td>NaN</td>\n",
       "      <td>NaN</td>\n",
       "      <td>2023-12-17 18:00:00</td>\n",
       "      <td>0.0</td>\n",
       "      <td>01:00:00 18/12/2023</td>\n",
       "    </tr>\n",
       "    <tr>\n",
       "      <th>527</th>\n",
       "      <td>528</td>\n",
       "      <td>82358e00-714d-49a0-8e8c-5832eb0035ec</td>\n",
       "      <td>Tiên Sa</td>\n",
       "      <td>NaN</td>\n",
       "      <td>NaN</td>\n",
       "      <td>2023-12-18 00:00:00</td>\n",
       "      <td>19.0</td>\n",
       "      <td>07:00:00 18/12/2023</td>\n",
       "    </tr>\n",
       "    <tr>\n",
       "      <th>528</th>\n",
       "      <td>529</td>\n",
       "      <td>82358e00-714d-49a0-8e8c-5832eb0035ec</td>\n",
       "      <td>Tiên Sa</td>\n",
       "      <td>NaN</td>\n",
       "      <td>NaN</td>\n",
       "      <td>2023-12-18 06:00:00</td>\n",
       "      <td>0.0</td>\n",
       "      <td>13:00:00 18/12/2023</td>\n",
       "    </tr>\n",
       "    <tr>\n",
       "      <th>784</th>\n",
       "      <td>785</td>\n",
       "      <td>b609063a-b6bd-41f3-8427-89d990474493</td>\n",
       "      <td>Đà Nẵng</td>\n",
       "      <td>NaN</td>\n",
       "      <td>NaN</td>\n",
       "      <td>2023-12-17 18:00:00</td>\n",
       "      <td>0.0</td>\n",
       "      <td>01:00:00 18/12/2023</td>\n",
       "    </tr>\n",
       "    <tr>\n",
       "      <th>785</th>\n",
       "      <td>786</td>\n",
       "      <td>b609063a-b6bd-41f3-8427-89d990474493</td>\n",
       "      <td>Đà Nẵng</td>\n",
       "      <td>NaN</td>\n",
       "      <td>NaN</td>\n",
       "      <td>2023-12-18 00:00:00</td>\n",
       "      <td>9.0</td>\n",
       "      <td>07:00:00 18/12/2023</td>\n",
       "    </tr>\n",
       "    <tr>\n",
       "      <th>786</th>\n",
       "      <td>787</td>\n",
       "      <td>b609063a-b6bd-41f3-8427-89d990474493</td>\n",
       "      <td>Đà Nẵng</td>\n",
       "      <td>NaN</td>\n",
       "      <td>NaN</td>\n",
       "      <td>2023-12-18 06:00:00</td>\n",
       "      <td>0.0</td>\n",
       "      <td>13:00:00 18/12/2023</td>\n",
       "    </tr>\n",
       "    <tr>\n",
       "      <th>1088</th>\n",
       "      <td>1089</td>\n",
       "      <td>e7e0da51-0ece-4e72-9882-7a664c7f4171</td>\n",
       "      <td>Trà My</td>\n",
       "      <td>NaN</td>\n",
       "      <td>NaN</td>\n",
       "      <td>2023-12-17 18:00:00</td>\n",
       "      <td>0.0</td>\n",
       "      <td>01:00:00 18/12/2023</td>\n",
       "    </tr>\n",
       "    <tr>\n",
       "      <th>1089</th>\n",
       "      <td>1090</td>\n",
       "      <td>e7e0da51-0ece-4e72-9882-7a664c7f4171</td>\n",
       "      <td>Trà My</td>\n",
       "      <td>NaN</td>\n",
       "      <td>NaN</td>\n",
       "      <td>2023-12-18 00:00:00</td>\n",
       "      <td>5.0</td>\n",
       "      <td>07:00:00 18/12/2023</td>\n",
       "    </tr>\n",
       "    <tr>\n",
       "      <th>1090</th>\n",
       "      <td>1091</td>\n",
       "      <td>e7e0da51-0ece-4e72-9882-7a664c7f4171</td>\n",
       "      <td>Trà My</td>\n",
       "      <td>NaN</td>\n",
       "      <td>NaN</td>\n",
       "      <td>2023-12-18 06:00:00</td>\n",
       "      <td>2.0</td>\n",
       "      <td>13:00:00 18/12/2023</td>\n",
       "    </tr>\n",
       "    <tr>\n",
       "      <th>2308</th>\n",
       "      <td>2309</td>\n",
       "      <td>e7e0da51-0ece-4e72-9882-7a664c7f4171</td>\n",
       "      <td>Trà My</td>\n",
       "      <td>NaN</td>\n",
       "      <td>NaN</td>\n",
       "      <td>2023-12-18 18:00:00</td>\n",
       "      <td>0.0</td>\n",
       "      <td>01:00:00 19/12/2023</td>\n",
       "    </tr>\n",
       "    <tr>\n",
       "      <th>2309</th>\n",
       "      <td>2310</td>\n",
       "      <td>e7e0da51-0ece-4e72-9882-7a664c7f4171</td>\n",
       "      <td>Trà My</td>\n",
       "      <td>NaN</td>\n",
       "      <td>NaN</td>\n",
       "      <td>2023-12-19 00:00:00</td>\n",
       "      <td>7.0</td>\n",
       "      <td>07:00:00 19/12/2023</td>\n",
       "    </tr>\n",
       "    <tr>\n",
       "      <th>2310</th>\n",
       "      <td>2311</td>\n",
       "      <td>e7e0da51-0ece-4e72-9882-7a664c7f4171</td>\n",
       "      <td>Trà My</td>\n",
       "      <td>NaN</td>\n",
       "      <td>NaN</td>\n",
       "      <td>2023-12-19 06:00:00</td>\n",
       "      <td>1.0</td>\n",
       "      <td>13:00:00 19/12/2023</td>\n",
       "    </tr>\n",
       "    <tr>\n",
       "      <th>2979</th>\n",
       "      <td>2980</td>\n",
       "      <td>82358e00-714d-49a0-8e8c-5832eb0035ec</td>\n",
       "      <td>Tiên Sa</td>\n",
       "      <td>NaN</td>\n",
       "      <td>NaN</td>\n",
       "      <td>2023-12-19 18:00:00</td>\n",
       "      <td>0.0</td>\n",
       "      <td>01:00:00 20/12/2023</td>\n",
       "    </tr>\n",
       "    <tr>\n",
       "      <th>2980</th>\n",
       "      <td>2981</td>\n",
       "      <td>82358e00-714d-49a0-8e8c-5832eb0035ec</td>\n",
       "      <td>Tiên Sa</td>\n",
       "      <td>NaN</td>\n",
       "      <td>NaN</td>\n",
       "      <td>2023-12-20 00:00:00</td>\n",
       "      <td>8.0</td>\n",
       "      <td>07:00:00 20/12/2023</td>\n",
       "    </tr>\n",
       "    <tr>\n",
       "      <th>2981</th>\n",
       "      <td>2982</td>\n",
       "      <td>82358e00-714d-49a0-8e8c-5832eb0035ec</td>\n",
       "      <td>Tiên Sa</td>\n",
       "      <td>NaN</td>\n",
       "      <td>NaN</td>\n",
       "      <td>2023-12-20 06:00:00</td>\n",
       "      <td>0.0</td>\n",
       "      <td>13:00:00 20/12/2023</td>\n",
       "    </tr>\n",
       "    <tr>\n",
       "      <th>3308</th>\n",
       "      <td>3309</td>\n",
       "      <td>b609063a-b6bd-41f3-8427-89d990474493</td>\n",
       "      <td>Đà Nẵng</td>\n",
       "      <td>NaN</td>\n",
       "      <td>NaN</td>\n",
       "      <td>2023-12-19 18:00:00</td>\n",
       "      <td>0.0</td>\n",
       "      <td>01:00:00 20/12/2023</td>\n",
       "    </tr>\n",
       "    <tr>\n",
       "      <th>3309</th>\n",
       "      <td>3310</td>\n",
       "      <td>b609063a-b6bd-41f3-8427-89d990474493</td>\n",
       "      <td>Đà Nẵng</td>\n",
       "      <td>NaN</td>\n",
       "      <td>NaN</td>\n",
       "      <td>2023-12-20 00:00:00</td>\n",
       "      <td>11.0</td>\n",
       "      <td>07:00:00 20/12/2023</td>\n",
       "    </tr>\n",
       "    <tr>\n",
       "      <th>3310</th>\n",
       "      <td>3311</td>\n",
       "      <td>b609063a-b6bd-41f3-8427-89d990474493</td>\n",
       "      <td>Đà Nẵng</td>\n",
       "      <td>NaN</td>\n",
       "      <td>NaN</td>\n",
       "      <td>2023-12-20 06:00:00</td>\n",
       "      <td>0.0</td>\n",
       "      <td>13:00:00 20/12/2023</td>\n",
       "    </tr>\n",
       "    <tr>\n",
       "      <th>3669</th>\n",
       "      <td>3670</td>\n",
       "      <td>e7e0da51-0ece-4e72-9882-7a664c7f4171</td>\n",
       "      <td>Trà My</td>\n",
       "      <td>NaN</td>\n",
       "      <td>NaN</td>\n",
       "      <td>2023-12-19 18:00:00</td>\n",
       "      <td>0.0</td>\n",
       "      <td>01:00:00 20/12/2023</td>\n",
       "    </tr>\n",
       "    <tr>\n",
       "      <th>3670</th>\n",
       "      <td>3671</td>\n",
       "      <td>e7e0da51-0ece-4e72-9882-7a664c7f4171</td>\n",
       "      <td>Trà My</td>\n",
       "      <td>NaN</td>\n",
       "      <td>NaN</td>\n",
       "      <td>2023-12-20 00:00:00</td>\n",
       "      <td>10.0</td>\n",
       "      <td>07:00:00 20/12/2023</td>\n",
       "    </tr>\n",
       "    <tr>\n",
       "      <th>3671</th>\n",
       "      <td>3672</td>\n",
       "      <td>e7e0da51-0ece-4e72-9882-7a664c7f4171</td>\n",
       "      <td>Trà My</td>\n",
       "      <td>NaN</td>\n",
       "      <td>NaN</td>\n",
       "      <td>2023-12-20 06:00:00</td>\n",
       "      <td>2.0</td>\n",
       "      <td>13:00:00 20/12/2023</td>\n",
       "    </tr>\n",
       "    <tr>\n",
       "      <th>4474</th>\n",
       "      <td>4475</td>\n",
       "      <td>e7e0da51-0ece-4e72-9882-7a664c7f4171</td>\n",
       "      <td>Trà My</td>\n",
       "      <td>NaN</td>\n",
       "      <td>NaN</td>\n",
       "      <td>2023-12-24 18:00:00</td>\n",
       "      <td>0.0</td>\n",
       "      <td>01:00:00 25/12/2023</td>\n",
       "    </tr>\n",
       "    <tr>\n",
       "      <th>4475</th>\n",
       "      <td>4476</td>\n",
       "      <td>e7e0da51-0ece-4e72-9882-7a664c7f4171</td>\n",
       "      <td>Trà My</td>\n",
       "      <td>NaN</td>\n",
       "      <td>NaN</td>\n",
       "      <td>2023-12-25 00:00:00</td>\n",
       "      <td>1.0</td>\n",
       "      <td>07:00:00 25/12/2023</td>\n",
       "    </tr>\n",
       "    <tr>\n",
       "      <th>5441</th>\n",
       "      <td>5442</td>\n",
       "      <td>82358e00-714d-49a0-8e8c-5832eb0035ec</td>\n",
       "      <td>Tiên Sa</td>\n",
       "      <td>NaN</td>\n",
       "      <td>NaN</td>\n",
       "      <td>2023-12-26 18:00:00</td>\n",
       "      <td>0.0</td>\n",
       "      <td>01:00:00 27/12/2023</td>\n",
       "    </tr>\n",
       "    <tr>\n",
       "      <th>5442</th>\n",
       "      <td>5443</td>\n",
       "      <td>82358e00-714d-49a0-8e8c-5832eb0035ec</td>\n",
       "      <td>Tiên Sa</td>\n",
       "      <td>NaN</td>\n",
       "      <td>NaN</td>\n",
       "      <td>2023-12-27 00:00:00</td>\n",
       "      <td>1.0</td>\n",
       "      <td>07:00:00 27/12/2023</td>\n",
       "    </tr>\n",
       "    <tr>\n",
       "      <th>5594</th>\n",
       "      <td>5595</td>\n",
       "      <td>b609063a-b6bd-41f3-8427-89d990474493</td>\n",
       "      <td>Đà Nẵng</td>\n",
       "      <td>NaN</td>\n",
       "      <td>NaN</td>\n",
       "      <td>2023-12-26 18:00:00</td>\n",
       "      <td>0.0</td>\n",
       "      <td>01:00:00 27/12/2023</td>\n",
       "    </tr>\n",
       "    <tr>\n",
       "      <th>5595</th>\n",
       "      <td>5596</td>\n",
       "      <td>b609063a-b6bd-41f3-8427-89d990474493</td>\n",
       "      <td>Đà Nẵng</td>\n",
       "      <td>NaN</td>\n",
       "      <td>NaN</td>\n",
       "      <td>2023-12-27 00:00:00</td>\n",
       "      <td>1.0</td>\n",
       "      <td>07:00:00 27/12/2023</td>\n",
       "    </tr>\n",
       "    <tr>\n",
       "      <th>5741</th>\n",
       "      <td>5742</td>\n",
       "      <td>e7e0da51-0ece-4e72-9882-7a664c7f4171</td>\n",
       "      <td>Trà My</td>\n",
       "      <td>NaN</td>\n",
       "      <td>NaN</td>\n",
       "      <td>2023-12-26 18:00:00</td>\n",
       "      <td>0.0</td>\n",
       "      <td>01:00:00 27/12/2023</td>\n",
       "    </tr>\n",
       "    <tr>\n",
       "      <th>5742</th>\n",
       "      <td>5743</td>\n",
       "      <td>e7e0da51-0ece-4e72-9882-7a664c7f4171</td>\n",
       "      <td>Trà My</td>\n",
       "      <td>NaN</td>\n",
       "      <td>NaN</td>\n",
       "      <td>2023-12-27 00:00:00</td>\n",
       "      <td>2.0</td>\n",
       "      <td>07:00:00 27/12/2023</td>\n",
       "    </tr>\n",
       "  </tbody>\n",
       "</table>\n",
       "</div>"
      ],
      "text/plain": [
       "        id                                mahieu      ten  kinhdo  vido  \\\n",
       "526    527  82358e00-714d-49a0-8e8c-5832eb0035ec  Tiên Sa     NaN   NaN   \n",
       "527    528  82358e00-714d-49a0-8e8c-5832eb0035ec  Tiên Sa     NaN   NaN   \n",
       "528    529  82358e00-714d-49a0-8e8c-5832eb0035ec  Tiên Sa     NaN   NaN   \n",
       "784    785  b609063a-b6bd-41f3-8427-89d990474493  Đà Nẵng     NaN   NaN   \n",
       "785    786  b609063a-b6bd-41f3-8427-89d990474493  Đà Nẵng     NaN   NaN   \n",
       "786    787  b609063a-b6bd-41f3-8427-89d990474493  Đà Nẵng     NaN   NaN   \n",
       "1088  1089  e7e0da51-0ece-4e72-9882-7a664c7f4171   Trà My     NaN   NaN   \n",
       "1089  1090  e7e0da51-0ece-4e72-9882-7a664c7f4171   Trà My     NaN   NaN   \n",
       "1090  1091  e7e0da51-0ece-4e72-9882-7a664c7f4171   Trà My     NaN   NaN   \n",
       "2308  2309  e7e0da51-0ece-4e72-9882-7a664c7f4171   Trà My     NaN   NaN   \n",
       "2309  2310  e7e0da51-0ece-4e72-9882-7a664c7f4171   Trà My     NaN   NaN   \n",
       "2310  2311  e7e0da51-0ece-4e72-9882-7a664c7f4171   Trà My     NaN   NaN   \n",
       "2979  2980  82358e00-714d-49a0-8e8c-5832eb0035ec  Tiên Sa     NaN   NaN   \n",
       "2980  2981  82358e00-714d-49a0-8e8c-5832eb0035ec  Tiên Sa     NaN   NaN   \n",
       "2981  2982  82358e00-714d-49a0-8e8c-5832eb0035ec  Tiên Sa     NaN   NaN   \n",
       "3308  3309  b609063a-b6bd-41f3-8427-89d990474493  Đà Nẵng     NaN   NaN   \n",
       "3309  3310  b609063a-b6bd-41f3-8427-89d990474493  Đà Nẵng     NaN   NaN   \n",
       "3310  3311  b609063a-b6bd-41f3-8427-89d990474493  Đà Nẵng     NaN   NaN   \n",
       "3669  3670  e7e0da51-0ece-4e72-9882-7a664c7f4171   Trà My     NaN   NaN   \n",
       "3670  3671  e7e0da51-0ece-4e72-9882-7a664c7f4171   Trà My     NaN   NaN   \n",
       "3671  3672  e7e0da51-0ece-4e72-9882-7a664c7f4171   Trà My     NaN   NaN   \n",
       "4474  4475  e7e0da51-0ece-4e72-9882-7a664c7f4171   Trà My     NaN   NaN   \n",
       "4475  4476  e7e0da51-0ece-4e72-9882-7a664c7f4171   Trà My     NaN   NaN   \n",
       "5441  5442  82358e00-714d-49a0-8e8c-5832eb0035ec  Tiên Sa     NaN   NaN   \n",
       "5442  5443  82358e00-714d-49a0-8e8c-5832eb0035ec  Tiên Sa     NaN   NaN   \n",
       "5594  5595  b609063a-b6bd-41f3-8427-89d990474493  Đà Nẵng     NaN   NaN   \n",
       "5595  5596  b609063a-b6bd-41f3-8427-89d990474493  Đà Nẵng     NaN   NaN   \n",
       "5741  5742  e7e0da51-0ece-4e72-9882-7a664c7f4171   Trà My     NaN   NaN   \n",
       "5742  5743  e7e0da51-0ece-4e72-9882-7a664c7f4171   Trà My     NaN   NaN   \n",
       "\n",
       "                 datetime  luongmua             thoigian  \n",
       "526   2023-12-17 18:00:00       0.0  01:00:00 18/12/2023  \n",
       "527   2023-12-18 00:00:00      19.0  07:00:00 18/12/2023  \n",
       "528   2023-12-18 06:00:00       0.0  13:00:00 18/12/2023  \n",
       "784   2023-12-17 18:00:00       0.0  01:00:00 18/12/2023  \n",
       "785   2023-12-18 00:00:00       9.0  07:00:00 18/12/2023  \n",
       "786   2023-12-18 06:00:00       0.0  13:00:00 18/12/2023  \n",
       "1088  2023-12-17 18:00:00       0.0  01:00:00 18/12/2023  \n",
       "1089  2023-12-18 00:00:00       5.0  07:00:00 18/12/2023  \n",
       "1090  2023-12-18 06:00:00       2.0  13:00:00 18/12/2023  \n",
       "2308  2023-12-18 18:00:00       0.0  01:00:00 19/12/2023  \n",
       "2309  2023-12-19 00:00:00       7.0  07:00:00 19/12/2023  \n",
       "2310  2023-12-19 06:00:00       1.0  13:00:00 19/12/2023  \n",
       "2979  2023-12-19 18:00:00       0.0  01:00:00 20/12/2023  \n",
       "2980  2023-12-20 00:00:00       8.0  07:00:00 20/12/2023  \n",
       "2981  2023-12-20 06:00:00       0.0  13:00:00 20/12/2023  \n",
       "3308  2023-12-19 18:00:00       0.0  01:00:00 20/12/2023  \n",
       "3309  2023-12-20 00:00:00      11.0  07:00:00 20/12/2023  \n",
       "3310  2023-12-20 06:00:00       0.0  13:00:00 20/12/2023  \n",
       "3669  2023-12-19 18:00:00       0.0  01:00:00 20/12/2023  \n",
       "3670  2023-12-20 00:00:00      10.0  07:00:00 20/12/2023  \n",
       "3671  2023-12-20 06:00:00       2.0  13:00:00 20/12/2023  \n",
       "4474  2023-12-24 18:00:00       0.0  01:00:00 25/12/2023  \n",
       "4475  2023-12-25 00:00:00       1.0  07:00:00 25/12/2023  \n",
       "5441  2023-12-26 18:00:00       0.0  01:00:00 27/12/2023  \n",
       "5442  2023-12-27 00:00:00       1.0  07:00:00 27/12/2023  \n",
       "5594  2023-12-26 18:00:00       0.0  01:00:00 27/12/2023  \n",
       "5595  2023-12-27 00:00:00       1.0  07:00:00 27/12/2023  \n",
       "5741  2023-12-26 18:00:00       0.0  01:00:00 27/12/2023  \n",
       "5742  2023-12-27 00:00:00       2.0  07:00:00 27/12/2023  "
      ]
     },
     "execution_count": 3,
     "metadata": {},
     "output_type": "execute_result"
    }
   ],
   "source": [
    "rows_with_nulls = df[df.isnull().any(axis=1)]\n",
    "print(len(rows_with_nulls))\n",
    "rows_with_nulls"
   ]
  },
  {
   "cell_type": "code",
   "execution_count": 4,
   "metadata": {},
   "outputs": [
    {
     "name": "stdout",
     "output_type": "stream",
     "text": [
      "29\n"
     ]
    },
    {
     "data": {
      "text/html": [
       "<div>\n",
       "<style scoped>\n",
       "    .dataframe tbody tr th:only-of-type {\n",
       "        vertical-align: middle;\n",
       "    }\n",
       "\n",
       "    .dataframe tbody tr th {\n",
       "        vertical-align: top;\n",
       "    }\n",
       "\n",
       "    .dataframe thead th {\n",
       "        text-align: right;\n",
       "    }\n",
       "</style>\n",
       "<table border=\"1\" class=\"dataframe\">\n",
       "  <thead>\n",
       "    <tr style=\"text-align: right;\">\n",
       "      <th></th>\n",
       "      <th>id</th>\n",
       "      <th>mahieu</th>\n",
       "      <th>ten</th>\n",
       "      <th>kinhdo</th>\n",
       "      <th>vido</th>\n",
       "      <th>datetime</th>\n",
       "      <th>luongmua</th>\n",
       "      <th>thoigian</th>\n",
       "    </tr>\n",
       "  </thead>\n",
       "  <tbody>\n",
       "    <tr>\n",
       "      <th>526</th>\n",
       "      <td>527</td>\n",
       "      <td>82358e00-714d-49a0-8e8c-5832eb0035ec</td>\n",
       "      <td>Tiên Sa</td>\n",
       "      <td>NaN</td>\n",
       "      <td>NaN</td>\n",
       "      <td>2023-12-17 18:00:00</td>\n",
       "      <td>0.0</td>\n",
       "      <td>01:00:00 18/12/2023</td>\n",
       "    </tr>\n",
       "    <tr>\n",
       "      <th>527</th>\n",
       "      <td>528</td>\n",
       "      <td>82358e00-714d-49a0-8e8c-5832eb0035ec</td>\n",
       "      <td>Tiên Sa</td>\n",
       "      <td>NaN</td>\n",
       "      <td>NaN</td>\n",
       "      <td>2023-12-18 00:00:00</td>\n",
       "      <td>19.0</td>\n",
       "      <td>07:00:00 18/12/2023</td>\n",
       "    </tr>\n",
       "    <tr>\n",
       "      <th>528</th>\n",
       "      <td>529</td>\n",
       "      <td>82358e00-714d-49a0-8e8c-5832eb0035ec</td>\n",
       "      <td>Tiên Sa</td>\n",
       "      <td>NaN</td>\n",
       "      <td>NaN</td>\n",
       "      <td>2023-12-18 06:00:00</td>\n",
       "      <td>0.0</td>\n",
       "      <td>13:00:00 18/12/2023</td>\n",
       "    </tr>\n",
       "    <tr>\n",
       "      <th>784</th>\n",
       "      <td>785</td>\n",
       "      <td>b609063a-b6bd-41f3-8427-89d990474493</td>\n",
       "      <td>Đà Nẵng</td>\n",
       "      <td>NaN</td>\n",
       "      <td>NaN</td>\n",
       "      <td>2023-12-17 18:00:00</td>\n",
       "      <td>0.0</td>\n",
       "      <td>01:00:00 18/12/2023</td>\n",
       "    </tr>\n",
       "    <tr>\n",
       "      <th>785</th>\n",
       "      <td>786</td>\n",
       "      <td>b609063a-b6bd-41f3-8427-89d990474493</td>\n",
       "      <td>Đà Nẵng</td>\n",
       "      <td>NaN</td>\n",
       "      <td>NaN</td>\n",
       "      <td>2023-12-18 00:00:00</td>\n",
       "      <td>9.0</td>\n",
       "      <td>07:00:00 18/12/2023</td>\n",
       "    </tr>\n",
       "    <tr>\n",
       "      <th>786</th>\n",
       "      <td>787</td>\n",
       "      <td>b609063a-b6bd-41f3-8427-89d990474493</td>\n",
       "      <td>Đà Nẵng</td>\n",
       "      <td>NaN</td>\n",
       "      <td>NaN</td>\n",
       "      <td>2023-12-18 06:00:00</td>\n",
       "      <td>0.0</td>\n",
       "      <td>13:00:00 18/12/2023</td>\n",
       "    </tr>\n",
       "    <tr>\n",
       "      <th>1088</th>\n",
       "      <td>1089</td>\n",
       "      <td>e7e0da51-0ece-4e72-9882-7a664c7f4171</td>\n",
       "      <td>Trà My</td>\n",
       "      <td>NaN</td>\n",
       "      <td>NaN</td>\n",
       "      <td>2023-12-17 18:00:00</td>\n",
       "      <td>0.0</td>\n",
       "      <td>01:00:00 18/12/2023</td>\n",
       "    </tr>\n",
       "    <tr>\n",
       "      <th>1089</th>\n",
       "      <td>1090</td>\n",
       "      <td>e7e0da51-0ece-4e72-9882-7a664c7f4171</td>\n",
       "      <td>Trà My</td>\n",
       "      <td>NaN</td>\n",
       "      <td>NaN</td>\n",
       "      <td>2023-12-18 00:00:00</td>\n",
       "      <td>5.0</td>\n",
       "      <td>07:00:00 18/12/2023</td>\n",
       "    </tr>\n",
       "    <tr>\n",
       "      <th>1090</th>\n",
       "      <td>1091</td>\n",
       "      <td>e7e0da51-0ece-4e72-9882-7a664c7f4171</td>\n",
       "      <td>Trà My</td>\n",
       "      <td>NaN</td>\n",
       "      <td>NaN</td>\n",
       "      <td>2023-12-18 06:00:00</td>\n",
       "      <td>2.0</td>\n",
       "      <td>13:00:00 18/12/2023</td>\n",
       "    </tr>\n",
       "    <tr>\n",
       "      <th>2308</th>\n",
       "      <td>2309</td>\n",
       "      <td>e7e0da51-0ece-4e72-9882-7a664c7f4171</td>\n",
       "      <td>Trà My</td>\n",
       "      <td>NaN</td>\n",
       "      <td>NaN</td>\n",
       "      <td>2023-12-18 18:00:00</td>\n",
       "      <td>0.0</td>\n",
       "      <td>01:00:00 19/12/2023</td>\n",
       "    </tr>\n",
       "    <tr>\n",
       "      <th>2309</th>\n",
       "      <td>2310</td>\n",
       "      <td>e7e0da51-0ece-4e72-9882-7a664c7f4171</td>\n",
       "      <td>Trà My</td>\n",
       "      <td>NaN</td>\n",
       "      <td>NaN</td>\n",
       "      <td>2023-12-19 00:00:00</td>\n",
       "      <td>7.0</td>\n",
       "      <td>07:00:00 19/12/2023</td>\n",
       "    </tr>\n",
       "    <tr>\n",
       "      <th>2310</th>\n",
       "      <td>2311</td>\n",
       "      <td>e7e0da51-0ece-4e72-9882-7a664c7f4171</td>\n",
       "      <td>Trà My</td>\n",
       "      <td>NaN</td>\n",
       "      <td>NaN</td>\n",
       "      <td>2023-12-19 06:00:00</td>\n",
       "      <td>1.0</td>\n",
       "      <td>13:00:00 19/12/2023</td>\n",
       "    </tr>\n",
       "    <tr>\n",
       "      <th>2979</th>\n",
       "      <td>2980</td>\n",
       "      <td>82358e00-714d-49a0-8e8c-5832eb0035ec</td>\n",
       "      <td>Tiên Sa</td>\n",
       "      <td>NaN</td>\n",
       "      <td>NaN</td>\n",
       "      <td>2023-12-19 18:00:00</td>\n",
       "      <td>0.0</td>\n",
       "      <td>01:00:00 20/12/2023</td>\n",
       "    </tr>\n",
       "    <tr>\n",
       "      <th>2980</th>\n",
       "      <td>2981</td>\n",
       "      <td>82358e00-714d-49a0-8e8c-5832eb0035ec</td>\n",
       "      <td>Tiên Sa</td>\n",
       "      <td>NaN</td>\n",
       "      <td>NaN</td>\n",
       "      <td>2023-12-20 00:00:00</td>\n",
       "      <td>8.0</td>\n",
       "      <td>07:00:00 20/12/2023</td>\n",
       "    </tr>\n",
       "    <tr>\n",
       "      <th>2981</th>\n",
       "      <td>2982</td>\n",
       "      <td>82358e00-714d-49a0-8e8c-5832eb0035ec</td>\n",
       "      <td>Tiên Sa</td>\n",
       "      <td>NaN</td>\n",
       "      <td>NaN</td>\n",
       "      <td>2023-12-20 06:00:00</td>\n",
       "      <td>0.0</td>\n",
       "      <td>13:00:00 20/12/2023</td>\n",
       "    </tr>\n",
       "    <tr>\n",
       "      <th>3308</th>\n",
       "      <td>3309</td>\n",
       "      <td>b609063a-b6bd-41f3-8427-89d990474493</td>\n",
       "      <td>Đà Nẵng</td>\n",
       "      <td>NaN</td>\n",
       "      <td>NaN</td>\n",
       "      <td>2023-12-19 18:00:00</td>\n",
       "      <td>0.0</td>\n",
       "      <td>01:00:00 20/12/2023</td>\n",
       "    </tr>\n",
       "    <tr>\n",
       "      <th>3309</th>\n",
       "      <td>3310</td>\n",
       "      <td>b609063a-b6bd-41f3-8427-89d990474493</td>\n",
       "      <td>Đà Nẵng</td>\n",
       "      <td>NaN</td>\n",
       "      <td>NaN</td>\n",
       "      <td>2023-12-20 00:00:00</td>\n",
       "      <td>11.0</td>\n",
       "      <td>07:00:00 20/12/2023</td>\n",
       "    </tr>\n",
       "    <tr>\n",
       "      <th>3310</th>\n",
       "      <td>3311</td>\n",
       "      <td>b609063a-b6bd-41f3-8427-89d990474493</td>\n",
       "      <td>Đà Nẵng</td>\n",
       "      <td>NaN</td>\n",
       "      <td>NaN</td>\n",
       "      <td>2023-12-20 06:00:00</td>\n",
       "      <td>0.0</td>\n",
       "      <td>13:00:00 20/12/2023</td>\n",
       "    </tr>\n",
       "    <tr>\n",
       "      <th>3669</th>\n",
       "      <td>3670</td>\n",
       "      <td>e7e0da51-0ece-4e72-9882-7a664c7f4171</td>\n",
       "      <td>Trà My</td>\n",
       "      <td>NaN</td>\n",
       "      <td>NaN</td>\n",
       "      <td>2023-12-19 18:00:00</td>\n",
       "      <td>0.0</td>\n",
       "      <td>01:00:00 20/12/2023</td>\n",
       "    </tr>\n",
       "    <tr>\n",
       "      <th>3670</th>\n",
       "      <td>3671</td>\n",
       "      <td>e7e0da51-0ece-4e72-9882-7a664c7f4171</td>\n",
       "      <td>Trà My</td>\n",
       "      <td>NaN</td>\n",
       "      <td>NaN</td>\n",
       "      <td>2023-12-20 00:00:00</td>\n",
       "      <td>10.0</td>\n",
       "      <td>07:00:00 20/12/2023</td>\n",
       "    </tr>\n",
       "    <tr>\n",
       "      <th>3671</th>\n",
       "      <td>3672</td>\n",
       "      <td>e7e0da51-0ece-4e72-9882-7a664c7f4171</td>\n",
       "      <td>Trà My</td>\n",
       "      <td>NaN</td>\n",
       "      <td>NaN</td>\n",
       "      <td>2023-12-20 06:00:00</td>\n",
       "      <td>2.0</td>\n",
       "      <td>13:00:00 20/12/2023</td>\n",
       "    </tr>\n",
       "    <tr>\n",
       "      <th>4474</th>\n",
       "      <td>4475</td>\n",
       "      <td>e7e0da51-0ece-4e72-9882-7a664c7f4171</td>\n",
       "      <td>Trà My</td>\n",
       "      <td>NaN</td>\n",
       "      <td>NaN</td>\n",
       "      <td>2023-12-24 18:00:00</td>\n",
       "      <td>0.0</td>\n",
       "      <td>01:00:00 25/12/2023</td>\n",
       "    </tr>\n",
       "    <tr>\n",
       "      <th>4475</th>\n",
       "      <td>4476</td>\n",
       "      <td>e7e0da51-0ece-4e72-9882-7a664c7f4171</td>\n",
       "      <td>Trà My</td>\n",
       "      <td>NaN</td>\n",
       "      <td>NaN</td>\n",
       "      <td>2023-12-25 00:00:00</td>\n",
       "      <td>1.0</td>\n",
       "      <td>07:00:00 25/12/2023</td>\n",
       "    </tr>\n",
       "    <tr>\n",
       "      <th>5441</th>\n",
       "      <td>5442</td>\n",
       "      <td>82358e00-714d-49a0-8e8c-5832eb0035ec</td>\n",
       "      <td>Tiên Sa</td>\n",
       "      <td>NaN</td>\n",
       "      <td>NaN</td>\n",
       "      <td>2023-12-26 18:00:00</td>\n",
       "      <td>0.0</td>\n",
       "      <td>01:00:00 27/12/2023</td>\n",
       "    </tr>\n",
       "    <tr>\n",
       "      <th>5442</th>\n",
       "      <td>5443</td>\n",
       "      <td>82358e00-714d-49a0-8e8c-5832eb0035ec</td>\n",
       "      <td>Tiên Sa</td>\n",
       "      <td>NaN</td>\n",
       "      <td>NaN</td>\n",
       "      <td>2023-12-27 00:00:00</td>\n",
       "      <td>1.0</td>\n",
       "      <td>07:00:00 27/12/2023</td>\n",
       "    </tr>\n",
       "    <tr>\n",
       "      <th>5594</th>\n",
       "      <td>5595</td>\n",
       "      <td>b609063a-b6bd-41f3-8427-89d990474493</td>\n",
       "      <td>Đà Nẵng</td>\n",
       "      <td>NaN</td>\n",
       "      <td>NaN</td>\n",
       "      <td>2023-12-26 18:00:00</td>\n",
       "      <td>0.0</td>\n",
       "      <td>01:00:00 27/12/2023</td>\n",
       "    </tr>\n",
       "    <tr>\n",
       "      <th>5595</th>\n",
       "      <td>5596</td>\n",
       "      <td>b609063a-b6bd-41f3-8427-89d990474493</td>\n",
       "      <td>Đà Nẵng</td>\n",
       "      <td>NaN</td>\n",
       "      <td>NaN</td>\n",
       "      <td>2023-12-27 00:00:00</td>\n",
       "      <td>1.0</td>\n",
       "      <td>07:00:00 27/12/2023</td>\n",
       "    </tr>\n",
       "    <tr>\n",
       "      <th>5741</th>\n",
       "      <td>5742</td>\n",
       "      <td>e7e0da51-0ece-4e72-9882-7a664c7f4171</td>\n",
       "      <td>Trà My</td>\n",
       "      <td>NaN</td>\n",
       "      <td>NaN</td>\n",
       "      <td>2023-12-26 18:00:00</td>\n",
       "      <td>0.0</td>\n",
       "      <td>01:00:00 27/12/2023</td>\n",
       "    </tr>\n",
       "    <tr>\n",
       "      <th>5742</th>\n",
       "      <td>5743</td>\n",
       "      <td>e7e0da51-0ece-4e72-9882-7a664c7f4171</td>\n",
       "      <td>Trà My</td>\n",
       "      <td>NaN</td>\n",
       "      <td>NaN</td>\n",
       "      <td>2023-12-27 00:00:00</td>\n",
       "      <td>2.0</td>\n",
       "      <td>07:00:00 27/12/2023</td>\n",
       "    </tr>\n",
       "  </tbody>\n",
       "</table>\n",
       "</div>"
      ],
      "text/plain": [
       "        id                                mahieu      ten  kinhdo  vido  \\\n",
       "526    527  82358e00-714d-49a0-8e8c-5832eb0035ec  Tiên Sa     NaN   NaN   \n",
       "527    528  82358e00-714d-49a0-8e8c-5832eb0035ec  Tiên Sa     NaN   NaN   \n",
       "528    529  82358e00-714d-49a0-8e8c-5832eb0035ec  Tiên Sa     NaN   NaN   \n",
       "784    785  b609063a-b6bd-41f3-8427-89d990474493  Đà Nẵng     NaN   NaN   \n",
       "785    786  b609063a-b6bd-41f3-8427-89d990474493  Đà Nẵng     NaN   NaN   \n",
       "786    787  b609063a-b6bd-41f3-8427-89d990474493  Đà Nẵng     NaN   NaN   \n",
       "1088  1089  e7e0da51-0ece-4e72-9882-7a664c7f4171   Trà My     NaN   NaN   \n",
       "1089  1090  e7e0da51-0ece-4e72-9882-7a664c7f4171   Trà My     NaN   NaN   \n",
       "1090  1091  e7e0da51-0ece-4e72-9882-7a664c7f4171   Trà My     NaN   NaN   \n",
       "2308  2309  e7e0da51-0ece-4e72-9882-7a664c7f4171   Trà My     NaN   NaN   \n",
       "2309  2310  e7e0da51-0ece-4e72-9882-7a664c7f4171   Trà My     NaN   NaN   \n",
       "2310  2311  e7e0da51-0ece-4e72-9882-7a664c7f4171   Trà My     NaN   NaN   \n",
       "2979  2980  82358e00-714d-49a0-8e8c-5832eb0035ec  Tiên Sa     NaN   NaN   \n",
       "2980  2981  82358e00-714d-49a0-8e8c-5832eb0035ec  Tiên Sa     NaN   NaN   \n",
       "2981  2982  82358e00-714d-49a0-8e8c-5832eb0035ec  Tiên Sa     NaN   NaN   \n",
       "3308  3309  b609063a-b6bd-41f3-8427-89d990474493  Đà Nẵng     NaN   NaN   \n",
       "3309  3310  b609063a-b6bd-41f3-8427-89d990474493  Đà Nẵng     NaN   NaN   \n",
       "3310  3311  b609063a-b6bd-41f3-8427-89d990474493  Đà Nẵng     NaN   NaN   \n",
       "3669  3670  e7e0da51-0ece-4e72-9882-7a664c7f4171   Trà My     NaN   NaN   \n",
       "3670  3671  e7e0da51-0ece-4e72-9882-7a664c7f4171   Trà My     NaN   NaN   \n",
       "3671  3672  e7e0da51-0ece-4e72-9882-7a664c7f4171   Trà My     NaN   NaN   \n",
       "4474  4475  e7e0da51-0ece-4e72-9882-7a664c7f4171   Trà My     NaN   NaN   \n",
       "4475  4476  e7e0da51-0ece-4e72-9882-7a664c7f4171   Trà My     NaN   NaN   \n",
       "5441  5442  82358e00-714d-49a0-8e8c-5832eb0035ec  Tiên Sa     NaN   NaN   \n",
       "5442  5443  82358e00-714d-49a0-8e8c-5832eb0035ec  Tiên Sa     NaN   NaN   \n",
       "5594  5595  b609063a-b6bd-41f3-8427-89d990474493  Đà Nẵng     NaN   NaN   \n",
       "5595  5596  b609063a-b6bd-41f3-8427-89d990474493  Đà Nẵng     NaN   NaN   \n",
       "5741  5742  e7e0da51-0ece-4e72-9882-7a664c7f4171   Trà My     NaN   NaN   \n",
       "5742  5743  e7e0da51-0ece-4e72-9882-7a664c7f4171   Trà My     NaN   NaN   \n",
       "\n",
       "                 datetime  luongmua             thoigian  \n",
       "526   2023-12-17 18:00:00       0.0  01:00:00 18/12/2023  \n",
       "527   2023-12-18 00:00:00      19.0  07:00:00 18/12/2023  \n",
       "528   2023-12-18 06:00:00       0.0  13:00:00 18/12/2023  \n",
       "784   2023-12-17 18:00:00       0.0  01:00:00 18/12/2023  \n",
       "785   2023-12-18 00:00:00       9.0  07:00:00 18/12/2023  \n",
       "786   2023-12-18 06:00:00       0.0  13:00:00 18/12/2023  \n",
       "1088  2023-12-17 18:00:00       0.0  01:00:00 18/12/2023  \n",
       "1089  2023-12-18 00:00:00       5.0  07:00:00 18/12/2023  \n",
       "1090  2023-12-18 06:00:00       2.0  13:00:00 18/12/2023  \n",
       "2308  2023-12-18 18:00:00       0.0  01:00:00 19/12/2023  \n",
       "2309  2023-12-19 00:00:00       7.0  07:00:00 19/12/2023  \n",
       "2310  2023-12-19 06:00:00       1.0  13:00:00 19/12/2023  \n",
       "2979  2023-12-19 18:00:00       0.0  01:00:00 20/12/2023  \n",
       "2980  2023-12-20 00:00:00       8.0  07:00:00 20/12/2023  \n",
       "2981  2023-12-20 06:00:00       0.0  13:00:00 20/12/2023  \n",
       "3308  2023-12-19 18:00:00       0.0  01:00:00 20/12/2023  \n",
       "3309  2023-12-20 00:00:00      11.0  07:00:00 20/12/2023  \n",
       "3310  2023-12-20 06:00:00       0.0  13:00:00 20/12/2023  \n",
       "3669  2023-12-19 18:00:00       0.0  01:00:00 20/12/2023  \n",
       "3670  2023-12-20 00:00:00      10.0  07:00:00 20/12/2023  \n",
       "3671  2023-12-20 06:00:00       2.0  13:00:00 20/12/2023  \n",
       "4474  2023-12-24 18:00:00       0.0  01:00:00 25/12/2023  \n",
       "4475  2023-12-25 00:00:00       1.0  07:00:00 25/12/2023  \n",
       "5441  2023-12-26 18:00:00       0.0  01:00:00 27/12/2023  \n",
       "5442  2023-12-27 00:00:00       1.0  07:00:00 27/12/2023  \n",
       "5594  2023-12-26 18:00:00       0.0  01:00:00 27/12/2023  \n",
       "5595  2023-12-27 00:00:00       1.0  07:00:00 27/12/2023  \n",
       "5741  2023-12-26 18:00:00       0.0  01:00:00 27/12/2023  \n",
       "5742  2023-12-27 00:00:00       2.0  07:00:00 27/12/2023  "
      ]
     },
     "execution_count": 4,
     "metadata": {},
     "output_type": "execute_result"
    }
   ],
   "source": [
    "df[['kinhdo', 'vido']] = df.groupby('mahieu')[['kinhdo', 'vido']].fillna(method='ffill')\n",
    "rows_with_nulls = df[df.isnull().any(axis=1)]\n",
    "print(len(rows_with_nulls))\n",
    "rows_with_nulls"
   ]
  },
  {
   "cell_type": "code",
   "execution_count": 5,
   "metadata": {},
   "outputs": [
    {
     "data": {
      "text/html": [
       "<div>\n",
       "<style scoped>\n",
       "    .dataframe tbody tr th:only-of-type {\n",
       "        vertical-align: middle;\n",
       "    }\n",
       "\n",
       "    .dataframe tbody tr th {\n",
       "        vertical-align: top;\n",
       "    }\n",
       "\n",
       "    .dataframe thead th {\n",
       "        text-align: right;\n",
       "    }\n",
       "</style>\n",
       "<table border=\"1\" class=\"dataframe\">\n",
       "  <thead>\n",
       "    <tr style=\"text-align: right;\">\n",
       "      <th></th>\n",
       "      <th>id</th>\n",
       "      <th>mahieu</th>\n",
       "      <th>ten</th>\n",
       "      <th>kinhdo</th>\n",
       "      <th>vido</th>\n",
       "      <th>datetime</th>\n",
       "      <th>luongmua</th>\n",
       "      <th>thoigian</th>\n",
       "    </tr>\n",
       "  </thead>\n",
       "  <tbody>\n",
       "    <tr>\n",
       "      <th>0</th>\n",
       "      <td>1</td>\n",
       "      <td>0248df12-4e95-4680-8fc6-e3310655b04c</td>\n",
       "      <td>Nông Sơn</td>\n",
       "      <td>108.050000</td>\n",
       "      <td>15.700000</td>\n",
       "      <td>2023-12-17 18:00:00</td>\n",
       "      <td>0.0</td>\n",
       "      <td>01:00:00 18/12/2023</td>\n",
       "    </tr>\n",
       "    <tr>\n",
       "      <th>1</th>\n",
       "      <td>2</td>\n",
       "      <td>0248df12-4e95-4680-8fc6-e3310655b04c</td>\n",
       "      <td>Nông Sơn</td>\n",
       "      <td>108.050000</td>\n",
       "      <td>15.700000</td>\n",
       "      <td>2023-12-18 00:00:00</td>\n",
       "      <td>3.0</td>\n",
       "      <td>07:00:00 18/12/2023</td>\n",
       "    </tr>\n",
       "    <tr>\n",
       "      <th>2</th>\n",
       "      <td>3</td>\n",
       "      <td>0248df12-4e95-4680-8fc6-e3310655b04c</td>\n",
       "      <td>Nông Sơn</td>\n",
       "      <td>108.050000</td>\n",
       "      <td>15.700000</td>\n",
       "      <td>2023-12-18 06:00:00</td>\n",
       "      <td>2.0</td>\n",
       "      <td>13:00:00 18/12/2023</td>\n",
       "    </tr>\n",
       "    <tr>\n",
       "      <th>3</th>\n",
       "      <td>4</td>\n",
       "      <td>086759bb-a373-4616-8d31-e2c29c562a3f</td>\n",
       "      <td>Cầu Vĩnh Điện</td>\n",
       "      <td>108.247891</td>\n",
       "      <td>15.901677</td>\n",
       "      <td>2023-12-17 17:00:00</td>\n",
       "      <td>1.4</td>\n",
       "      <td>00:00:00 18/12/2023</td>\n",
       "    </tr>\n",
       "    <tr>\n",
       "      <th>4</th>\n",
       "      <td>5</td>\n",
       "      <td>086759bb-a373-4616-8d31-e2c29c562a3f</td>\n",
       "      <td>Cầu Vĩnh Điện</td>\n",
       "      <td>108.247891</td>\n",
       "      <td>15.901677</td>\n",
       "      <td>2023-12-17 18:00:00</td>\n",
       "      <td>0.2</td>\n",
       "      <td>01:00:00 18/12/2023</td>\n",
       "    </tr>\n",
       "    <tr>\n",
       "      <th>...</th>\n",
       "      <td>...</td>\n",
       "      <td>...</td>\n",
       "      <td>...</td>\n",
       "      <td>...</td>\n",
       "      <td>...</td>\n",
       "      <td>...</td>\n",
       "      <td>...</td>\n",
       "      <td>...</td>\n",
       "    </tr>\n",
       "    <tr>\n",
       "      <th>5758</th>\n",
       "      <td>5759</td>\n",
       "      <td>fedf51e0-fcc8-4124-9d73-e378197b9789</td>\n",
       "      <td>Đại học Bách Khoa Đà Nẵng</td>\n",
       "      <td>108.153458</td>\n",
       "      <td>16.077385</td>\n",
       "      <td>2023-12-26 21:00:00</td>\n",
       "      <td>0.2</td>\n",
       "      <td>04:00:00 27/12/2023</td>\n",
       "    </tr>\n",
       "    <tr>\n",
       "      <th>5759</th>\n",
       "      <td>5760</td>\n",
       "      <td>fedf51e0-fcc8-4124-9d73-e378197b9789</td>\n",
       "      <td>Đại học Bách Khoa Đà Nẵng</td>\n",
       "      <td>108.153458</td>\n",
       "      <td>16.077385</td>\n",
       "      <td>2023-12-26 22:00:00</td>\n",
       "      <td>0.0</td>\n",
       "      <td>05:00:00 27/12/2023</td>\n",
       "    </tr>\n",
       "    <tr>\n",
       "      <th>5760</th>\n",
       "      <td>5761</td>\n",
       "      <td>fedf51e0-fcc8-4124-9d73-e378197b9789</td>\n",
       "      <td>Đại học Bách Khoa Đà Nẵng</td>\n",
       "      <td>108.153458</td>\n",
       "      <td>16.077385</td>\n",
       "      <td>2023-12-26 23:00:00</td>\n",
       "      <td>0.0</td>\n",
       "      <td>06:00:00 27/12/2023</td>\n",
       "    </tr>\n",
       "    <tr>\n",
       "      <th>5761</th>\n",
       "      <td>5762</td>\n",
       "      <td>fedf51e0-fcc8-4124-9d73-e378197b9789</td>\n",
       "      <td>Đại học Bách Khoa Đà Nẵng</td>\n",
       "      <td>108.153458</td>\n",
       "      <td>16.077385</td>\n",
       "      <td>2023-12-27 00:00:00</td>\n",
       "      <td>0.0</td>\n",
       "      <td>07:00:00 27/12/2023</td>\n",
       "    </tr>\n",
       "    <tr>\n",
       "      <th>5762</th>\n",
       "      <td>5763</td>\n",
       "      <td>fedf51e0-fcc8-4124-9d73-e378197b9789</td>\n",
       "      <td>Đại học Bách Khoa Đà Nẵng</td>\n",
       "      <td>108.153458</td>\n",
       "      <td>16.077385</td>\n",
       "      <td>2023-12-27 01:00:00</td>\n",
       "      <td>0.0</td>\n",
       "      <td>08:00:00 27/12/2023</td>\n",
       "    </tr>\n",
       "  </tbody>\n",
       "</table>\n",
       "<p>5734 rows × 8 columns</p>\n",
       "</div>"
      ],
      "text/plain": [
       "        id                                mahieu                        ten  \\\n",
       "0        1  0248df12-4e95-4680-8fc6-e3310655b04c                   Nông Sơn   \n",
       "1        2  0248df12-4e95-4680-8fc6-e3310655b04c                   Nông Sơn   \n",
       "2        3  0248df12-4e95-4680-8fc6-e3310655b04c                   Nông Sơn   \n",
       "3        4  086759bb-a373-4616-8d31-e2c29c562a3f              Cầu Vĩnh Điện   \n",
       "4        5  086759bb-a373-4616-8d31-e2c29c562a3f              Cầu Vĩnh Điện   \n",
       "...    ...                                   ...                        ...   \n",
       "5758  5759  fedf51e0-fcc8-4124-9d73-e378197b9789  Đại học Bách Khoa Đà Nẵng   \n",
       "5759  5760  fedf51e0-fcc8-4124-9d73-e378197b9789  Đại học Bách Khoa Đà Nẵng   \n",
       "5760  5761  fedf51e0-fcc8-4124-9d73-e378197b9789  Đại học Bách Khoa Đà Nẵng   \n",
       "5761  5762  fedf51e0-fcc8-4124-9d73-e378197b9789  Đại học Bách Khoa Đà Nẵng   \n",
       "5762  5763  fedf51e0-fcc8-4124-9d73-e378197b9789  Đại học Bách Khoa Đà Nẵng   \n",
       "\n",
       "          kinhdo       vido             datetime  luongmua  \\\n",
       "0     108.050000  15.700000  2023-12-17 18:00:00       0.0   \n",
       "1     108.050000  15.700000  2023-12-18 00:00:00       3.0   \n",
       "2     108.050000  15.700000  2023-12-18 06:00:00       2.0   \n",
       "3     108.247891  15.901677  2023-12-17 17:00:00       1.4   \n",
       "4     108.247891  15.901677  2023-12-17 18:00:00       0.2   \n",
       "...          ...        ...                  ...       ...   \n",
       "5758  108.153458  16.077385  2023-12-26 21:00:00       0.2   \n",
       "5759  108.153458  16.077385  2023-12-26 22:00:00       0.0   \n",
       "5760  108.153458  16.077385  2023-12-26 23:00:00       0.0   \n",
       "5761  108.153458  16.077385  2023-12-27 00:00:00       0.0   \n",
       "5762  108.153458  16.077385  2023-12-27 01:00:00       0.0   \n",
       "\n",
       "                 thoigian  \n",
       "0     01:00:00 18/12/2023  \n",
       "1     07:00:00 18/12/2023  \n",
       "2     13:00:00 18/12/2023  \n",
       "3     00:00:00 18/12/2023  \n",
       "4     01:00:00 18/12/2023  \n",
       "...                   ...  \n",
       "5758  04:00:00 27/12/2023  \n",
       "5759  05:00:00 27/12/2023  \n",
       "5760  06:00:00 27/12/2023  \n",
       "5761  07:00:00 27/12/2023  \n",
       "5762  08:00:00 27/12/2023  \n",
       "\n",
       "[5734 rows x 8 columns]"
      ]
     },
     "execution_count": 5,
     "metadata": {},
     "output_type": "execute_result"
    }
   ],
   "source": [
    "df=df.dropna()\n",
    "df"
   ]
  },
  {
   "cell_type": "code",
   "execution_count": 6,
   "metadata": {},
   "outputs": [
    {
     "data": {
      "text/plain": [
       "array(['0248df12-4e95-4680-8fc6-e3310655b04c',\n",
       "       '086759bb-a373-4616-8d31-e2c29c562a3f',\n",
       "       '0c1fbedf-cc19-4780-92d1-834a5386d044',\n",
       "       '0d25d085-1e56-4178-aee7-920dd81c3954',\n",
       "       '0f74319d-3acc-48c3-977b-29d9951b2c46',\n",
       "       '103acc99-da64-453c-9f50-13fc154b3f3d',\n",
       "       '12b64a9b-e2c7-4150-bc0e-e81b0368f922',\n",
       "       '15c3e435-0b4f-4d3e-81da-6bce63a1821b',\n",
       "       '166d3cd6-ebd6-4b55-8766-ebca5e1aa595',\n",
       "       '1b1b74a5-213d-4dbd-846a-adde3f543130',\n",
       "       '1f8740d0-5e50-491d-870f-640542ebf978',\n",
       "       '291f8ee3-e722-42f6-8086-e961e1727545',\n",
       "       '32c3c7d6-6c1a-4165-a55a-ac34124b89c8',\n",
       "       '39c2eb45-8463-40b8-af8d-1b174296c161',\n",
       "       '3eeddd36-b0c5-4e4e-9338-6104affdfd69',\n",
       "       '41744b51-9f54-4482-b349-3e6491a5d73b',\n",
       "       '44d2539b-9e70-4d64-a6f1-f11ddaf9ecb0',\n",
       "       '44f2b4a2-ddee-4889-b828-519a73f2f3db',\n",
       "       '46fbcdbf-14e7-4a2e-aa75-c225bcdc97f9',\n",
       "       '48e277da-301c-41d7-a699-61e543561ad7',\n",
       "       '4982ab06-0e8d-4d7d-a6ef-36cfb44cc556',\n",
       "       '4a81dd93-7ceb-4d7c-b8e5-5d7b6a6896f2',\n",
       "       '4be02abe-8ec7-4f88-96c6-97fb395aacd2',\n",
       "       '4f5630b0-2a41-439d-ad9c-4900b665ecc8',\n",
       "       '4f7712f7-8fd1-4de4-8ce2-3a50e75becd7',\n",
       "       '57abec3c-b4cb-4747-a4ac-c258abb96920',\n",
       "       '5852aeb8-c640-4339-81e4-857d9a803899',\n",
       "       '5bc07eec-121b-4db7-a373-d2b8a27536e8',\n",
       "       '5f589def-0933-4716-91f9-cbe3d9bcb329',\n",
       "       '637e9df0-5f10-4294-a4fa-8543a0567786',\n",
       "       '658693b8-39eb-436d-8300-2c2873005c31',\n",
       "       '69e1ad14-7dbc-4adb-8627-fc67fec3078a',\n",
       "       '6b654d3a-29e2-41b6-a4d2-8499e5f5af2e',\n",
       "       '6ec29ddc-1b53-4b3e-a2a2-09c4f07209af',\n",
       "       '727bf477-6e9f-472e-878c-22872a24ffb2',\n",
       "       '764b2d65-7ddd-4736-859f-613fd790c425',\n",
       "       '84a000bd-1deb-4552-9911-12e35890cd50',\n",
       "       '8be053ed-6eaa-41f6-b643-e028663238b3',\n",
       "       '8fd01f58-e63e-4563-94b3-d6510091dc85',\n",
       "       '92da1ea6-9a27-43ec-979c-adf12db6ac88',\n",
       "       '94cb3d4f-a43b-4a6f-a73b-8739e0cf1aa6',\n",
       "       '97b894b5-2684-47bd-a5dd-0bb5bd7b20f1',\n",
       "       '99ab3cf4-fd84-4100-96ad-7275881a9bda',\n",
       "       '9b5b35f2-f757-4d11-abc1-a277628761f8',\n",
       "       '9c56003f-df19-4663-8f78-7a2d8d82e4c6',\n",
       "       'a06b0c3e-8a39-4a7b-9671-97edf68ae08d',\n",
       "       'a20ea0bf-ec4c-4238-8d61-c05b151e396f',\n",
       "       'a4304280-67dd-494a-81b8-a1ab520b2fda',\n",
       "       'a90de168-31cb-48f0-822b-a2b196765ab8',\n",
       "       'ae587954-1e21-4b89-b0ee-a6f8031ea1f0',\n",
       "       'b1546830-9aeb-442e-8467-ac012b1a3948',\n",
       "       'b350283c-db8b-4dac-9320-5195196f5b62',\n",
       "       'b41df702-5f78-4098-8c71-2379c74b988b',\n",
       "       'b47478f0-54e0-44b2-8ec1-363c7b74bc37',\n",
       "       'b7903be3-3953-4f2d-9acc-7121eddabec3',\n",
       "       'bcc09fa2-3aae-48d0-b911-330ddc75f6b7',\n",
       "       'bd786b5a-5963-42fa-a607-66c3edbddc85',\n",
       "       'bde15c02-ac73-4814-bd95-e6630eca7af5',\n",
       "       'bed0d60c-1362-4337-8fdb-df2964749f1e',\n",
       "       'c216b419-d990-45c0-808b-1b6d1c23a351',\n",
       "       'c5afe33e-adbb-4c8b-8a8b-9e3713b49c11',\n",
       "       'c8c20cd8-68ca-451a-98ca-d37071abb1b6',\n",
       "       'c97b648e-297b-4f65-a6cc-2572d7e6bdd5',\n",
       "       'ca63a9df-aa3f-463f-8874-2cc78f37d4f1',\n",
       "       'ca806e47-9710-4ef4-b0df-770aa503379a',\n",
       "       'cba321b4-abdb-4fc6-812d-333da5f11b0e',\n",
       "       'ce68fe85-d36b-4842-855f-44ec8ff14954',\n",
       "       'ce98065c-5441-4e44-957b-da72538a7407',\n",
       "       'ced6ad11-eeb8-48f0-a147-7e650c7803be',\n",
       "       'd222905a-18e2-4160-ae7f-219a7a64d43f',\n",
       "       'd2dcb339-2799-41f0-9e7a-48016288327a',\n",
       "       'd58a2c89-3357-4b3f-83e9-6ad265c1c06c',\n",
       "       'd8170f33-e4b3-43ac-af9b-67bc4e482dc5',\n",
       "       'dd9fd423-a32c-4916-b5b9-6b464b556b0d',\n",
       "       'f08349aa-266f-4859-83cd-e67328cf0a2e',\n",
       "       'fe192584-d453-4bb3-b043-086391c249be',\n",
       "       'fedf51e0-fcc8-4124-9d73-e378197b9789',\n",
       "       'bc073c7f-82be-4b87-932f-208839f803bc'], dtype=object)"
      ]
     },
     "execution_count": 6,
     "metadata": {},
     "output_type": "execute_result"
    }
   ],
   "source": [
    "df['mahieu'].unique()"
   ]
  },
  {
   "cell_type": "code",
   "execution_count": 7,
   "metadata": {},
   "outputs": [
    {
     "data": {
      "text/html": [
       "<div>\n",
       "<style scoped>\n",
       "    .dataframe tbody tr th:only-of-type {\n",
       "        vertical-align: middle;\n",
       "    }\n",
       "\n",
       "    .dataframe tbody tr th {\n",
       "        vertical-align: top;\n",
       "    }\n",
       "\n",
       "    .dataframe thead th {\n",
       "        text-align: right;\n",
       "    }\n",
       "</style>\n",
       "<table border=\"1\" class=\"dataframe\">\n",
       "  <thead>\n",
       "    <tr style=\"text-align: right;\">\n",
       "      <th></th>\n",
       "      <th>id</th>\n",
       "      <th>kinhdo</th>\n",
       "      <th>vido</th>\n",
       "      <th>luongmua</th>\n",
       "    </tr>\n",
       "  </thead>\n",
       "  <tbody>\n",
       "    <tr>\n",
       "      <th>count</th>\n",
       "      <td>5734.000000</td>\n",
       "      <td>5734.000000</td>\n",
       "      <td>5734.000000</td>\n",
       "      <td>5734.000000</td>\n",
       "    </tr>\n",
       "    <tr>\n",
       "      <th>mean</th>\n",
       "      <td>2881.483432</td>\n",
       "      <td>108.134780</td>\n",
       "      <td>15.730615</td>\n",
       "      <td>0.491948</td>\n",
       "    </tr>\n",
       "    <tr>\n",
       "      <th>std</th>\n",
       "      <td>1663.156680</td>\n",
       "      <td>0.265299</td>\n",
       "      <td>0.279839</td>\n",
       "      <td>1.422461</td>\n",
       "    </tr>\n",
       "    <tr>\n",
       "      <th>min</th>\n",
       "      <td>1.000000</td>\n",
       "      <td>107.498056</td>\n",
       "      <td>15.144816</td>\n",
       "      <td>0.000000</td>\n",
       "    </tr>\n",
       "    <tr>\n",
       "      <th>25%</th>\n",
       "      <td>1443.250000</td>\n",
       "      <td>108.014071</td>\n",
       "      <td>15.506648</td>\n",
       "      <td>0.000000</td>\n",
       "    </tr>\n",
       "    <tr>\n",
       "      <th>50%</th>\n",
       "      <td>2879.500000</td>\n",
       "      <td>108.141922</td>\n",
       "      <td>15.787569</td>\n",
       "      <td>0.000000</td>\n",
       "    </tr>\n",
       "    <tr>\n",
       "      <th>75%</th>\n",
       "      <td>4321.750000</td>\n",
       "      <td>108.247893</td>\n",
       "      <td>15.958889</td>\n",
       "      <td>0.200000</td>\n",
       "    </tr>\n",
       "    <tr>\n",
       "      <th>max</th>\n",
       "      <td>5763.000000</td>\n",
       "      <td>111.617000</td>\n",
       "      <td>16.550000</td>\n",
       "      <td>24.000000</td>\n",
       "    </tr>\n",
       "  </tbody>\n",
       "</table>\n",
       "</div>"
      ],
      "text/plain": [
       "                id       kinhdo         vido     luongmua\n",
       "count  5734.000000  5734.000000  5734.000000  5734.000000\n",
       "mean   2881.483432   108.134780    15.730615     0.491948\n",
       "std    1663.156680     0.265299     0.279839     1.422461\n",
       "min       1.000000   107.498056    15.144816     0.000000\n",
       "25%    1443.250000   108.014071    15.506648     0.000000\n",
       "50%    2879.500000   108.141922    15.787569     0.000000\n",
       "75%    4321.750000   108.247893    15.958889     0.200000\n",
       "max    5763.000000   111.617000    16.550000    24.000000"
      ]
     },
     "execution_count": 7,
     "metadata": {},
     "output_type": "execute_result"
    }
   ],
   "source": [
    "df.describe()"
   ]
  },
  {
   "cell_type": "code",
   "execution_count": 8,
   "metadata": {},
   "outputs": [],
   "source": [
    "# start_time = '2023-12-25 10:00:00'\n",
    "# end_time = '2023-12-27 10:00:00'\n",
    "\n",
    "# condition = (df['datetime'] >= start_time) & \\\n",
    "#             (df['datetime'] <= end_time)\n",
    "\n",
    "# filtered_df= df[condition]\n",
    "# print(filtered_df.shape)\n",
    "# print(filtered_df['mahieu'].nunique())\n",
    "filtered_df=df"
   ]
  },
  {
   "cell_type": "code",
   "execution_count": 9,
   "metadata": {},
   "outputs": [],
   "source": [
    "# condition = df['mahieu'] == '82358e00-714d-49a0-8e8c-5832eb0035ec'\n",
    "# filtered_df1= df[condition]\n",
    "# filtered_df1"
   ]
  },
  {
   "cell_type": "code",
   "execution_count": 10,
   "metadata": {},
   "outputs": [
    {
     "data": {
      "text/html": [
       "<div>\n",
       "<style scoped>\n",
       "    .dataframe tbody tr th:only-of-type {\n",
       "        vertical-align: middle;\n",
       "    }\n",
       "\n",
       "    .dataframe tbody tr th {\n",
       "        vertical-align: top;\n",
       "    }\n",
       "\n",
       "    .dataframe thead th {\n",
       "        text-align: right;\n",
       "    }\n",
       "</style>\n",
       "<table border=\"1\" class=\"dataframe\">\n",
       "  <thead>\n",
       "    <tr style=\"text-align: right;\">\n",
       "      <th></th>\n",
       "      <th>mahieu</th>\n",
       "      <th>luongmua</th>\n",
       "      <th>kinhdo</th>\n",
       "      <th>vido</th>\n",
       "    </tr>\n",
       "  </thead>\n",
       "  <tbody>\n",
       "    <tr>\n",
       "      <th>0</th>\n",
       "      <td>0248df12-4e95-4680-8fc6-e3310655b04c</td>\n",
       "      <td>34.0</td>\n",
       "      <td>108.050000</td>\n",
       "      <td>15.700000</td>\n",
       "    </tr>\n",
       "    <tr>\n",
       "      <th>1</th>\n",
       "      <td>086759bb-a373-4616-8d31-e2c29c562a3f</td>\n",
       "      <td>8.6</td>\n",
       "      <td>108.247891</td>\n",
       "      <td>15.901677</td>\n",
       "    </tr>\n",
       "    <tr>\n",
       "      <th>2</th>\n",
       "      <td>0c1fbedf-cc19-4780-92d1-834a5386d044</td>\n",
       "      <td>30.6</td>\n",
       "      <td>108.150276</td>\n",
       "      <td>15.568889</td>\n",
       "    </tr>\n",
       "    <tr>\n",
       "      <th>3</th>\n",
       "      <td>0d25d085-1e56-4178-aee7-920dd81c3954</td>\n",
       "      <td>37.0</td>\n",
       "      <td>108.246468</td>\n",
       "      <td>15.549425</td>\n",
       "    </tr>\n",
       "    <tr>\n",
       "      <th>4</th>\n",
       "      <td>0f74319d-3acc-48c3-977b-29d9951b2c46</td>\n",
       "      <td>28.4</td>\n",
       "      <td>108.356667</td>\n",
       "      <td>15.521389</td>\n",
       "    </tr>\n",
       "    <tr>\n",
       "      <th>...</th>\n",
       "      <td>...</td>\n",
       "      <td>...</td>\n",
       "      <td>...</td>\n",
       "      <td>...</td>\n",
       "    </tr>\n",
       "    <tr>\n",
       "      <th>73</th>\n",
       "      <td>d8170f33-e4b3-43ac-af9b-67bc4e482dc5</td>\n",
       "      <td>38.6</td>\n",
       "      <td>108.000000</td>\n",
       "      <td>15.664167</td>\n",
       "    </tr>\n",
       "    <tr>\n",
       "      <th>74</th>\n",
       "      <td>dd9fd423-a32c-4916-b5b9-6b464b556b0d</td>\n",
       "      <td>23.7</td>\n",
       "      <td>108.467000</td>\n",
       "      <td>15.566700</td>\n",
       "    </tr>\n",
       "    <tr>\n",
       "      <th>75</th>\n",
       "      <td>f08349aa-266f-4859-83cd-e67328cf0a2e</td>\n",
       "      <td>5.4</td>\n",
       "      <td>111.617000</td>\n",
       "      <td>16.550000</td>\n",
       "    </tr>\n",
       "    <tr>\n",
       "      <th>76</th>\n",
       "      <td>fe192584-d453-4bb3-b043-086391c249be</td>\n",
       "      <td>75.8</td>\n",
       "      <td>107.984711</td>\n",
       "      <td>16.120132</td>\n",
       "    </tr>\n",
       "    <tr>\n",
       "      <th>77</th>\n",
       "      <td>fedf51e0-fcc8-4124-9d73-e378197b9789</td>\n",
       "      <td>18.2</td>\n",
       "      <td>108.153458</td>\n",
       "      <td>16.077385</td>\n",
       "    </tr>\n",
       "  </tbody>\n",
       "</table>\n",
       "<p>78 rows × 4 columns</p>\n",
       "</div>"
      ],
      "text/plain": [
       "                                  mahieu  luongmua      kinhdo       vido\n",
       "0   0248df12-4e95-4680-8fc6-e3310655b04c      34.0  108.050000  15.700000\n",
       "1   086759bb-a373-4616-8d31-e2c29c562a3f       8.6  108.247891  15.901677\n",
       "2   0c1fbedf-cc19-4780-92d1-834a5386d044      30.6  108.150276  15.568889\n",
       "3   0d25d085-1e56-4178-aee7-920dd81c3954      37.0  108.246468  15.549425\n",
       "4   0f74319d-3acc-48c3-977b-29d9951b2c46      28.4  108.356667  15.521389\n",
       "..                                   ...       ...         ...        ...\n",
       "73  d8170f33-e4b3-43ac-af9b-67bc4e482dc5      38.6  108.000000  15.664167\n",
       "74  dd9fd423-a32c-4916-b5b9-6b464b556b0d      23.7  108.467000  15.566700\n",
       "75  f08349aa-266f-4859-83cd-e67328cf0a2e       5.4  111.617000  16.550000\n",
       "76  fe192584-d453-4bb3-b043-086391c249be      75.8  107.984711  16.120132\n",
       "77  fedf51e0-fcc8-4124-9d73-e378197b9789      18.2  108.153458  16.077385\n",
       "\n",
       "[78 rows x 4 columns]"
      ]
     },
     "execution_count": 10,
     "metadata": {},
     "output_type": "execute_result"
    }
   ],
   "source": [
    "grouped_df = filtered_df.groupby('mahieu').agg({'luongmua': 'sum', 'kinhdo': 'first', 'vido': 'first'}).reset_index()\n",
    "grouped_df"
   ]
  },
  {
   "cell_type": "code",
   "execution_count": 11,
   "metadata": {},
   "outputs": [
    {
     "data": {
      "application/vnd.plotly.v1+json": {
       "config": {
        "plotlyServerURL": "https://plot.ly"
       },
       "data": [
        {
         "hovertemplate": "luongmua=%{marker.color}<br>vido=%{lat}<br>kinhdo=%{lon}<extra></extra>",
         "lat": [
          15.699999999991931,
          15.90167699999999,
          15.568888664245602,
          15.54942512512207,
          15.521389007568356,
          15.95315299999999,
          15.676388999999997,
          16.079853057861335,
          15.318055999999995,
          15.286044120788564,
          15.630832999999999,
          15.506648063659668,
          15.8033332824707,
          15.851667404174805,
          15.689262390136715,
          15.144816398620607,
          15.222288000000002,
          15.957599639892571,
          15.366851806640614,
          16.06383599999999,
          15.272449999999997,
          15.996388999999981,
          15.809722000000004,
          15.400682999999997,
          16.054174423217766,
          15.363974571228022,
          16.13333320617675,
          15.271110999999989,
          16.012145996093743,
          15.90167713165283,
          15.540833473205565,
          15.569999694824219,
          15.921010017395007,
          15.808055999999997,
          15.787499999999994,
          15.818889000000002,
          15.369551999999995,
          16.108610999999993,
          15.950515747070305,
          15.953627586364746,
          16.033299999988895,
          15.63333299999999,
          15.999980926513677,
          16.143774032592763,
          15.982778000000007,
          15.222222328186026,
          15.592222213745108,
          15.71210098266601,
          15.787569,
          15.991328999999995,
          16.144444,
          16.024705886840817,
          15.888333320617674,
          15.333299999988247,
          15.600714683532713,
          15.883329999987476,
          15.766669999994894,
          15.437276735461896,
          16.027777999999994,
          15.680277824401852,
          15.643199920654293,
          15.881389,
          15.462500000000006,
          15.35658299999999,
          15.36115763753599,
          15.958888999999992,
          15.430278,
          15.920886039733878,
          15.458333000000001,
          15.847025871276848,
          15.953627586364746,
          15.690723419189442,
          16.056389,
          15.664167404174801,
          15.566699999982113,
          16.54999999875799,
          16.12013244628906,
          16.077384948730472
         ],
         "legendgroup": "",
         "lon": [
          108.04999999996674,
          108.247891,
          108.15027618408203,
          108.24646759033203,
          108.3566665649414,
          108.19537499999998,
          107.49805599999996,
          108.05998992919922,
          107.812222,
          107.89136505126952,
          108.28972199999998,
          108.48114013671875,
          108.2558364868164,
          108.01055908203125,
          107.77178955078128,
          108.11793518066403,
          108.25425899999999,
          107.99198150634766,
          107.75498962402342,
          108.209119,
          108.01407099999997,
          108.05444400000002,
          108.03805599999998,
          107.761958,
          108.18834686279295,
          108.51097869873047,
          107.98345947265625,
          108.01388899999999,
          108.09835815429688,
          108.24789428710938,
          108.04222106933592,
          108.47528076171874,
          108.11062622070312,
          108.21805600000002,
          108.174444,
          107.902222,
          108.27719099999999,
          108.261667,
          108.0869674682617,
          108.15494537353516,
          108.19999999996138,
          108.155278,
          108.1419219970703,
          108.02541351318358,
          108.268056,
          108.25416564941406,
          108.22305297851561,
          108.08157348632811,
          108.01735699999999,
          108.09908,
          108.115833,
          108.06118011474608,
          108.14971923828125,
          108.24999999995025,
          108.21653747558594,
          108.2666999999555,
          107.83329999997721,
          108.490308086434,
          108.22,
          108.00444030761717,
          108.32599639892578,
          107.80666699999998,
          107.93777799999998,
          108.3825,
          108.49869808971098,
          108.215278,
          108.408611,
          107.65275573730467,
          108.17194400000001,
          107.93457031249999,
          108.15494537353516,
          108.10348510742188,
          108.11749999999999,
          107.99999999999999,
          108.46699999993507,
          111.61699999821163,
          107.98471069335936,
          108.15345764160155
         ],
         "marker": {
          "color": [
           34,
           8.6,
           30.6,
           37,
           28.4,
           24.4,
           33.8,
           62,
           8.200000000000001,
           35,
           27.200000000000003,
           12.4,
           21.4,
           18,
           0,
           31.2,
           33.8,
           69,
           0,
           25.6,
           68.2,
           68,
           25.8,
           64.6,
           33.8,
           76.8,
           38.4,
           56,
           53.800000000000004,
           6.4,
           42,
           9,
           48,
           32.8,
           34.6,
           24.4,
           45.2,
           56.6,
           59.6,
           40,
           22.5,
           24.6,
           40,
           70.4,
           12.799999999999999,
           42.4,
           39,
           29.6,
           24.63,
           32.800000000000004,
           86.2,
           66.8,
           37.800000000000004,
           79,
           33.2,
           2,
           10,
           17.59,
           24,
           32.8,
           13.200000000000001,
           22.400000000000002,
           95.8,
           68,
           36.01,
           24.4,
           37.4,
           22.8,
           67.4,
           14.6,
           40,
           21,
           43.4,
           38.6,
           23.7,
           5.4,
           75.8,
           18.2
          ],
          "coloraxis": "coloraxis",
          "opacity": 0.5,
          "size": [
           34,
           8.6,
           30.6,
           37,
           28.4,
           24.4,
           33.8,
           62,
           8.200000000000001,
           35,
           27.200000000000003,
           12.4,
           21.4,
           18,
           0,
           31.2,
           33.8,
           69,
           0,
           25.6,
           68.2,
           68,
           25.8,
           64.6,
           33.8,
           76.8,
           38.4,
           56,
           53.800000000000004,
           6.4,
           42,
           9,
           48,
           32.8,
           34.6,
           24.4,
           45.2,
           56.6,
           59.6,
           40,
           22.5,
           24.6,
           40,
           70.4,
           12.799999999999999,
           42.4,
           39,
           29.6,
           24.63,
           32.800000000000004,
           86.2,
           66.8,
           37.800000000000004,
           79,
           33.2,
           2,
           10,
           17.59,
           24,
           32.8,
           13.200000000000001,
           22.400000000000002,
           95.8,
           68,
           36.01,
           24.4,
           37.4,
           22.8,
           67.4,
           14.6,
           40,
           21,
           43.4,
           38.6,
           23.7,
           5.4,
           75.8,
           18.2
          ],
          "sizemode": "area",
          "sizeref": 0.10644444444444444
         },
         "mode": "markers",
         "name": "",
         "showlegend": false,
         "subplot": "mapbox",
         "type": "scattermapbox"
        }
       ],
       "layout": {
        "coloraxis": {
         "colorbar": {
          "title": {
           "text": "luongmua"
          }
         },
         "colorscale": [
          [
           0,
           "rgb(150,0,90)"
          ],
          [
           0.125,
           "rgb(0,0,200)"
          ],
          [
           0.25,
           "rgb(0,25,255)"
          ],
          [
           0.375,
           "rgb(0,152,255)"
          ],
          [
           0.5,
           "rgb(44,255,150)"
          ],
          [
           0.625,
           "rgb(151,255,0)"
          ],
          [
           0.75,
           "rgb(255,234,0)"
          ],
          [
           0.875,
           "rgb(255,111,0)"
          ],
          [
           1,
           "rgb(255,0,0)"
          ]
         ]
        },
        "height": 800,
        "legend": {
         "itemsizing": "constant",
         "tracegroupgap": 0
        },
        "mapbox": {
         "center": {
          "lat": 14.0583,
          "lon": 108.2772
         },
         "domain": {
          "x": [
           0,
           1
          ],
          "y": [
           0,
           1
          ]
         },
         "style": "open-street-map",
         "zoom": 0
        },
        "margin": {
         "t": 60
        },
        "template": {
         "data": {
          "bar": [
           {
            "error_x": {
             "color": "#2a3f5f"
            },
            "error_y": {
             "color": "#2a3f5f"
            },
            "marker": {
             "line": {
              "color": "#E5ECF6",
              "width": 0.5
             },
             "pattern": {
              "fillmode": "overlay",
              "size": 10,
              "solidity": 0.2
             }
            },
            "type": "bar"
           }
          ],
          "barpolar": [
           {
            "marker": {
             "line": {
              "color": "#E5ECF6",
              "width": 0.5
             },
             "pattern": {
              "fillmode": "overlay",
              "size": 10,
              "solidity": 0.2
             }
            },
            "type": "barpolar"
           }
          ],
          "carpet": [
           {
            "aaxis": {
             "endlinecolor": "#2a3f5f",
             "gridcolor": "white",
             "linecolor": "white",
             "minorgridcolor": "white",
             "startlinecolor": "#2a3f5f"
            },
            "baxis": {
             "endlinecolor": "#2a3f5f",
             "gridcolor": "white",
             "linecolor": "white",
             "minorgridcolor": "white",
             "startlinecolor": "#2a3f5f"
            },
            "type": "carpet"
           }
          ],
          "choropleth": [
           {
            "colorbar": {
             "outlinewidth": 0,
             "ticks": ""
            },
            "type": "choropleth"
           }
          ],
          "contour": [
           {
            "colorbar": {
             "outlinewidth": 0,
             "ticks": ""
            },
            "colorscale": [
             [
              0,
              "#0d0887"
             ],
             [
              0.1111111111111111,
              "#46039f"
             ],
             [
              0.2222222222222222,
              "#7201a8"
             ],
             [
              0.3333333333333333,
              "#9c179e"
             ],
             [
              0.4444444444444444,
              "#bd3786"
             ],
             [
              0.5555555555555556,
              "#d8576b"
             ],
             [
              0.6666666666666666,
              "#ed7953"
             ],
             [
              0.7777777777777778,
              "#fb9f3a"
             ],
             [
              0.8888888888888888,
              "#fdca26"
             ],
             [
              1,
              "#f0f921"
             ]
            ],
            "type": "contour"
           }
          ],
          "contourcarpet": [
           {
            "colorbar": {
             "outlinewidth": 0,
             "ticks": ""
            },
            "type": "contourcarpet"
           }
          ],
          "heatmap": [
           {
            "colorbar": {
             "outlinewidth": 0,
             "ticks": ""
            },
            "colorscale": [
             [
              0,
              "#0d0887"
             ],
             [
              0.1111111111111111,
              "#46039f"
             ],
             [
              0.2222222222222222,
              "#7201a8"
             ],
             [
              0.3333333333333333,
              "#9c179e"
             ],
             [
              0.4444444444444444,
              "#bd3786"
             ],
             [
              0.5555555555555556,
              "#d8576b"
             ],
             [
              0.6666666666666666,
              "#ed7953"
             ],
             [
              0.7777777777777778,
              "#fb9f3a"
             ],
             [
              0.8888888888888888,
              "#fdca26"
             ],
             [
              1,
              "#f0f921"
             ]
            ],
            "type": "heatmap"
           }
          ],
          "heatmapgl": [
           {
            "colorbar": {
             "outlinewidth": 0,
             "ticks": ""
            },
            "colorscale": [
             [
              0,
              "#0d0887"
             ],
             [
              0.1111111111111111,
              "#46039f"
             ],
             [
              0.2222222222222222,
              "#7201a8"
             ],
             [
              0.3333333333333333,
              "#9c179e"
             ],
             [
              0.4444444444444444,
              "#bd3786"
             ],
             [
              0.5555555555555556,
              "#d8576b"
             ],
             [
              0.6666666666666666,
              "#ed7953"
             ],
             [
              0.7777777777777778,
              "#fb9f3a"
             ],
             [
              0.8888888888888888,
              "#fdca26"
             ],
             [
              1,
              "#f0f921"
             ]
            ],
            "type": "heatmapgl"
           }
          ],
          "histogram": [
           {
            "marker": {
             "pattern": {
              "fillmode": "overlay",
              "size": 10,
              "solidity": 0.2
             }
            },
            "type": "histogram"
           }
          ],
          "histogram2d": [
           {
            "colorbar": {
             "outlinewidth": 0,
             "ticks": ""
            },
            "colorscale": [
             [
              0,
              "#0d0887"
             ],
             [
              0.1111111111111111,
              "#46039f"
             ],
             [
              0.2222222222222222,
              "#7201a8"
             ],
             [
              0.3333333333333333,
              "#9c179e"
             ],
             [
              0.4444444444444444,
              "#bd3786"
             ],
             [
              0.5555555555555556,
              "#d8576b"
             ],
             [
              0.6666666666666666,
              "#ed7953"
             ],
             [
              0.7777777777777778,
              "#fb9f3a"
             ],
             [
              0.8888888888888888,
              "#fdca26"
             ],
             [
              1,
              "#f0f921"
             ]
            ],
            "type": "histogram2d"
           }
          ],
          "histogram2dcontour": [
           {
            "colorbar": {
             "outlinewidth": 0,
             "ticks": ""
            },
            "colorscale": [
             [
              0,
              "#0d0887"
             ],
             [
              0.1111111111111111,
              "#46039f"
             ],
             [
              0.2222222222222222,
              "#7201a8"
             ],
             [
              0.3333333333333333,
              "#9c179e"
             ],
             [
              0.4444444444444444,
              "#bd3786"
             ],
             [
              0.5555555555555556,
              "#d8576b"
             ],
             [
              0.6666666666666666,
              "#ed7953"
             ],
             [
              0.7777777777777778,
              "#fb9f3a"
             ],
             [
              0.8888888888888888,
              "#fdca26"
             ],
             [
              1,
              "#f0f921"
             ]
            ],
            "type": "histogram2dcontour"
           }
          ],
          "mesh3d": [
           {
            "colorbar": {
             "outlinewidth": 0,
             "ticks": ""
            },
            "type": "mesh3d"
           }
          ],
          "parcoords": [
           {
            "line": {
             "colorbar": {
              "outlinewidth": 0,
              "ticks": ""
             }
            },
            "type": "parcoords"
           }
          ],
          "pie": [
           {
            "automargin": true,
            "type": "pie"
           }
          ],
          "scatter": [
           {
            "fillpattern": {
             "fillmode": "overlay",
             "size": 10,
             "solidity": 0.2
            },
            "type": "scatter"
           }
          ],
          "scatter3d": [
           {
            "line": {
             "colorbar": {
              "outlinewidth": 0,
              "ticks": ""
             }
            },
            "marker": {
             "colorbar": {
              "outlinewidth": 0,
              "ticks": ""
             }
            },
            "type": "scatter3d"
           }
          ],
          "scattercarpet": [
           {
            "marker": {
             "colorbar": {
              "outlinewidth": 0,
              "ticks": ""
             }
            },
            "type": "scattercarpet"
           }
          ],
          "scattergeo": [
           {
            "marker": {
             "colorbar": {
              "outlinewidth": 0,
              "ticks": ""
             }
            },
            "type": "scattergeo"
           }
          ],
          "scattergl": [
           {
            "marker": {
             "colorbar": {
              "outlinewidth": 0,
              "ticks": ""
             }
            },
            "type": "scattergl"
           }
          ],
          "scattermapbox": [
           {
            "marker": {
             "colorbar": {
              "outlinewidth": 0,
              "ticks": ""
             }
            },
            "type": "scattermapbox"
           }
          ],
          "scatterpolar": [
           {
            "marker": {
             "colorbar": {
              "outlinewidth": 0,
              "ticks": ""
             }
            },
            "type": "scatterpolar"
           }
          ],
          "scatterpolargl": [
           {
            "marker": {
             "colorbar": {
              "outlinewidth": 0,
              "ticks": ""
             }
            },
            "type": "scatterpolargl"
           }
          ],
          "scatterternary": [
           {
            "marker": {
             "colorbar": {
              "outlinewidth": 0,
              "ticks": ""
             }
            },
            "type": "scatterternary"
           }
          ],
          "surface": [
           {
            "colorbar": {
             "outlinewidth": 0,
             "ticks": ""
            },
            "colorscale": [
             [
              0,
              "#0d0887"
             ],
             [
              0.1111111111111111,
              "#46039f"
             ],
             [
              0.2222222222222222,
              "#7201a8"
             ],
             [
              0.3333333333333333,
              "#9c179e"
             ],
             [
              0.4444444444444444,
              "#bd3786"
             ],
             [
              0.5555555555555556,
              "#d8576b"
             ],
             [
              0.6666666666666666,
              "#ed7953"
             ],
             [
              0.7777777777777778,
              "#fb9f3a"
             ],
             [
              0.8888888888888888,
              "#fdca26"
             ],
             [
              1,
              "#f0f921"
             ]
            ],
            "type": "surface"
           }
          ],
          "table": [
           {
            "cells": {
             "fill": {
              "color": "#EBF0F8"
             },
             "line": {
              "color": "white"
             }
            },
            "header": {
             "fill": {
              "color": "#C8D4E3"
             },
             "line": {
              "color": "white"
             }
            },
            "type": "table"
           }
          ]
         },
         "layout": {
          "annotationdefaults": {
           "arrowcolor": "#2a3f5f",
           "arrowhead": 0,
           "arrowwidth": 1
          },
          "autotypenumbers": "strict",
          "coloraxis": {
           "colorbar": {
            "outlinewidth": 0,
            "ticks": ""
           }
          },
          "colorscale": {
           "diverging": [
            [
             0,
             "#8e0152"
            ],
            [
             0.1,
             "#c51b7d"
            ],
            [
             0.2,
             "#de77ae"
            ],
            [
             0.3,
             "#f1b6da"
            ],
            [
             0.4,
             "#fde0ef"
            ],
            [
             0.5,
             "#f7f7f7"
            ],
            [
             0.6,
             "#e6f5d0"
            ],
            [
             0.7,
             "#b8e186"
            ],
            [
             0.8,
             "#7fbc41"
            ],
            [
             0.9,
             "#4d9221"
            ],
            [
             1,
             "#276419"
            ]
           ],
           "sequential": [
            [
             0,
             "#0d0887"
            ],
            [
             0.1111111111111111,
             "#46039f"
            ],
            [
             0.2222222222222222,
             "#7201a8"
            ],
            [
             0.3333333333333333,
             "#9c179e"
            ],
            [
             0.4444444444444444,
             "#bd3786"
            ],
            [
             0.5555555555555556,
             "#d8576b"
            ],
            [
             0.6666666666666666,
             "#ed7953"
            ],
            [
             0.7777777777777778,
             "#fb9f3a"
            ],
            [
             0.8888888888888888,
             "#fdca26"
            ],
            [
             1,
             "#f0f921"
            ]
           ],
           "sequentialminus": [
            [
             0,
             "#0d0887"
            ],
            [
             0.1111111111111111,
             "#46039f"
            ],
            [
             0.2222222222222222,
             "#7201a8"
            ],
            [
             0.3333333333333333,
             "#9c179e"
            ],
            [
             0.4444444444444444,
             "#bd3786"
            ],
            [
             0.5555555555555556,
             "#d8576b"
            ],
            [
             0.6666666666666666,
             "#ed7953"
            ],
            [
             0.7777777777777778,
             "#fb9f3a"
            ],
            [
             0.8888888888888888,
             "#fdca26"
            ],
            [
             1,
             "#f0f921"
            ]
           ]
          },
          "colorway": [
           "#636efa",
           "#EF553B",
           "#00cc96",
           "#ab63fa",
           "#FFA15A",
           "#19d3f3",
           "#FF6692",
           "#B6E880",
           "#FF97FF",
           "#FECB52"
          ],
          "font": {
           "color": "#2a3f5f"
          },
          "geo": {
           "bgcolor": "white",
           "lakecolor": "white",
           "landcolor": "#E5ECF6",
           "showlakes": true,
           "showland": true,
           "subunitcolor": "white"
          },
          "hoverlabel": {
           "align": "left"
          },
          "hovermode": "closest",
          "mapbox": {
           "style": "light"
          },
          "paper_bgcolor": "white",
          "plot_bgcolor": "#E5ECF6",
          "polar": {
           "angularaxis": {
            "gridcolor": "white",
            "linecolor": "white",
            "ticks": ""
           },
           "bgcolor": "#E5ECF6",
           "radialaxis": {
            "gridcolor": "white",
            "linecolor": "white",
            "ticks": ""
           }
          },
          "scene": {
           "xaxis": {
            "backgroundcolor": "#E5ECF6",
            "gridcolor": "white",
            "gridwidth": 2,
            "linecolor": "white",
            "showbackground": true,
            "ticks": "",
            "zerolinecolor": "white"
           },
           "yaxis": {
            "backgroundcolor": "#E5ECF6",
            "gridcolor": "white",
            "gridwidth": 2,
            "linecolor": "white",
            "showbackground": true,
            "ticks": "",
            "zerolinecolor": "white"
           },
           "zaxis": {
            "backgroundcolor": "#E5ECF6",
            "gridcolor": "white",
            "gridwidth": 2,
            "linecolor": "white",
            "showbackground": true,
            "ticks": "",
            "zerolinecolor": "white"
           }
          },
          "shapedefaults": {
           "line": {
            "color": "#2a3f5f"
           }
          },
          "ternary": {
           "aaxis": {
            "gridcolor": "white",
            "linecolor": "white",
            "ticks": ""
           },
           "baxis": {
            "gridcolor": "white",
            "linecolor": "white",
            "ticks": ""
           },
           "bgcolor": "#E5ECF6",
           "caxis": {
            "gridcolor": "white",
            "linecolor": "white",
            "ticks": ""
           }
          },
          "title": {
           "x": 0.05
          },
          "xaxis": {
           "automargin": true,
           "gridcolor": "white",
           "linecolor": "white",
           "ticks": "",
           "title": {
            "standoff": 15
           },
           "zerolinecolor": "white",
           "zerolinewidth": 2
          },
          "yaxis": {
           "automargin": true,
           "gridcolor": "white",
           "linecolor": "white",
           "ticks": "",
           "title": {
            "standoff": 15
           },
           "zerolinecolor": "white",
           "zerolinewidth": 2
          }
         }
        }
       }
      }
     },
     "metadata": {},
     "output_type": "display_data"
    }
   ],
   "source": [
    "import plotly.express as px\n",
    "fig_n = px.scatter_mapbox(grouped_df, lat = 'vido', lon = 'kinhdo',\n",
    "                        color='luongmua',\n",
    "                        size = 'luongmua',\n",
    "                        center = dict(lat = 14.0583 , lon = 108.2772),\n",
    "                        size_max = 30,\n",
    "                        zoom = 0,\n",
    "                        mapbox_style = 'open-street-map',\n",
    "                        color_continuous_scale = 'rainbow',\n",
    "                        opacity = 0.5,\n",
    "                        height= 800\n",
    "                        )\n",
    "fig_n.show()"
   ]
  }
 ],
 "metadata": {
  "kernelspec": {
   "display_name": "Python 3",
   "language": "python",
   "name": "python3"
  },
  "language_info": {
   "codemirror_mode": {
    "name": "ipython",
    "version": 3
   },
   "file_extension": ".py",
   "mimetype": "text/x-python",
   "name": "python",
   "nbconvert_exporter": "python",
   "pygments_lexer": "ipython3",
   "version": "3.8.10"
  }
 },
 "nbformat": 4,
 "nbformat_minor": 2
}
